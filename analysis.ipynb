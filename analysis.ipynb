{
 "cells": [
  {
   "cell_type": "code",
   "execution_count": 1,
   "metadata": {},
   "outputs": [],
   "source": [
    "import os\n",
    "import numpy as np\n",
    "import pandas as pd\n",
    "import xgboost as xgb\n",
    "import matplotlib.pyplot as plt"
   ]
  },
  {
   "cell_type": "code",
   "execution_count": 4,
   "metadata": {},
   "outputs": [],
   "source": [
    "folder_path = os.path.join('dataset','processed')\n",
    "\n",
    "dfs = []\n",
    "\n",
    "for filename in os.listdir(folder_path):\n",
    "    if filename.endswith('.csv'):\n",
    "        file_path = os.path.join(folder_path, filename)\n",
    "        df = pd.read_csv(file_path)\n",
    "\n",
    "        dfs.append(df)\n",
    "\n",
    "combined_df = pd.concat(dfs, ignore_index=True)"
   ]
  },
  {
   "cell_type": "code",
   "execution_count": 5,
   "metadata": {},
   "outputs": [
    {
     "data": {
      "text/html": [
       "<div>\n",
       "<style scoped>\n",
       "    .dataframe tbody tr th:only-of-type {\n",
       "        vertical-align: middle;\n",
       "    }\n",
       "\n",
       "    .dataframe tbody tr th {\n",
       "        vertical-align: top;\n",
       "    }\n",
       "\n",
       "    .dataframe thead th {\n",
       "        text-align: right;\n",
       "    }\n",
       "</style>\n",
       "<table border=\"1\" class=\"dataframe\">\n",
       "  <thead>\n",
       "    <tr style=\"text-align: right;\">\n",
       "      <th></th>\n",
       "      <th>Unnamed: 0</th>\n",
       "      <th>time</th>\n",
       "      <th>Latitude</th>\n",
       "      <th>Longitude</th>\n",
       "      <th>signature_label</th>\n",
       "      <th>icao24</th>\n",
       "      <th>trip_number</th>\n",
       "    </tr>\n",
       "  </thead>\n",
       "  <tbody>\n",
       "    <tr>\n",
       "      <th>0</th>\n",
       "      <td>0</td>\n",
       "      <td>1645630911</td>\n",
       "      <td>28.210749</td>\n",
       "      <td>-81.275455</td>\n",
       "      <td>0</td>\n",
       "      <td>a007c6</td>\n",
       "      <td>2</td>\n",
       "    </tr>\n",
       "    <tr>\n",
       "      <th>1</th>\n",
       "      <td>1</td>\n",
       "      <td>1645630912</td>\n",
       "      <td>28.210656</td>\n",
       "      <td>-81.275778</td>\n",
       "      <td>0</td>\n",
       "      <td>a007c6</td>\n",
       "      <td>2</td>\n",
       "    </tr>\n",
       "  </tbody>\n",
       "</table>\n",
       "</div>"
      ],
      "text/plain": [
       "   Unnamed: 0        time   Latitude  Longitude  signature_label  icao24  \\\n",
       "0           0  1645630911  28.210749 -81.275455                0  a007c6   \n",
       "1           1  1645630912  28.210656 -81.275778                0  a007c6   \n",
       "\n",
       "   trip_number  \n",
       "0            2  \n",
       "1            2  "
      ]
     },
     "execution_count": 5,
     "metadata": {},
     "output_type": "execute_result"
    }
   ],
   "source": [
    "combined_df.head(2)"
   ]
  },
  {
   "cell_type": "markdown",
   "metadata": {},
   "source": [
    "## Train-Test"
   ]
  },
  {
   "cell_type": "code",
   "execution_count": 30,
   "metadata": {},
   "outputs": [],
   "source": [
    "# 0d02a8 = 0, 2 - BAD; a007c6 = 0, 4\n",
    "flights_ids_to_include = ['0d02a8', 'a007c6']\n",
    "flights_trips_to_include_tr = [0, 1]\n",
    "flights_trips_to_include_test = [2, 3, 4]\n",
    "\n",
    "\n",
    "train_data = combined_df[(combined_df['icao24'].isin(flights_ids_to_include)) & (combined_df['trip_number'].isin(flights_trips_to_include_tr))]\n",
    "test_data = combined_df[(combined_df['icao24'].isin(flights_ids_to_include)) & (combined_df['trip_number'].isin(flights_trips_to_include_test))]"
   ]
  },
  {
   "cell_type": "code",
   "execution_count": 31,
   "metadata": {},
   "outputs": [
    {
     "data": {
      "text/html": [
       "<div>\n",
       "<style scoped>\n",
       "    .dataframe tbody tr th:only-of-type {\n",
       "        vertical-align: middle;\n",
       "    }\n",
       "\n",
       "    .dataframe tbody tr th {\n",
       "        vertical-align: top;\n",
       "    }\n",
       "\n",
       "    .dataframe thead th {\n",
       "        text-align: right;\n",
       "    }\n",
       "</style>\n",
       "<table border=\"1\" class=\"dataframe\">\n",
       "  <thead>\n",
       "    <tr style=\"text-align: right;\">\n",
       "      <th></th>\n",
       "      <th>Unnamed: 0</th>\n",
       "      <th>time</th>\n",
       "      <th>Latitude</th>\n",
       "      <th>Longitude</th>\n",
       "      <th>signature_label</th>\n",
       "      <th>icao24</th>\n",
       "      <th>trip_number</th>\n",
       "    </tr>\n",
       "  </thead>\n",
       "  <tbody>\n",
       "    <tr>\n",
       "      <th>2128</th>\n",
       "      <td>0</td>\n",
       "      <td>1645565574</td>\n",
       "      <td>27.921707</td>\n",
       "      <td>-81.968839</td>\n",
       "      <td>0</td>\n",
       "      <td>a007c6</td>\n",
       "      <td>1</td>\n",
       "    </tr>\n",
       "    <tr>\n",
       "      <th>2129</th>\n",
       "      <td>1</td>\n",
       "      <td>1645565575</td>\n",
       "      <td>27.921707</td>\n",
       "      <td>-81.968839</td>\n",
       "      <td>0</td>\n",
       "      <td>a007c6</td>\n",
       "      <td>1</td>\n",
       "    </tr>\n",
       "    <tr>\n",
       "      <th>2130</th>\n",
       "      <td>2</td>\n",
       "      <td>1645565576</td>\n",
       "      <td>27.921707</td>\n",
       "      <td>-81.968839</td>\n",
       "      <td>0</td>\n",
       "      <td>a007c6</td>\n",
       "      <td>1</td>\n",
       "    </tr>\n",
       "    <tr>\n",
       "      <th>2131</th>\n",
       "      <td>3</td>\n",
       "      <td>1645565577</td>\n",
       "      <td>27.921707</td>\n",
       "      <td>-81.968839</td>\n",
       "      <td>0</td>\n",
       "      <td>a007c6</td>\n",
       "      <td>1</td>\n",
       "    </tr>\n",
       "    <tr>\n",
       "      <th>2132</th>\n",
       "      <td>4</td>\n",
       "      <td>1645565578</td>\n",
       "      <td>27.921707</td>\n",
       "      <td>-81.968839</td>\n",
       "      <td>0</td>\n",
       "      <td>a007c6</td>\n",
       "      <td>1</td>\n",
       "    </tr>\n",
       "  </tbody>\n",
       "</table>\n",
       "</div>"
      ],
      "text/plain": [
       "      Unnamed: 0        time   Latitude  Longitude  signature_label  icao24  \\\n",
       "2128           0  1645565574  27.921707 -81.968839                0  a007c6   \n",
       "2129           1  1645565575  27.921707 -81.968839                0  a007c6   \n",
       "2130           2  1645565576  27.921707 -81.968839                0  a007c6   \n",
       "2131           3  1645565577  27.921707 -81.968839                0  a007c6   \n",
       "2132           4  1645565578  27.921707 -81.968839                0  a007c6   \n",
       "\n",
       "      trip_number  \n",
       "2128            1  \n",
       "2129            1  \n",
       "2130            1  \n",
       "2131            1  \n",
       "2132            1  "
      ]
     },
     "execution_count": 31,
     "metadata": {},
     "output_type": "execute_result"
    }
   ],
   "source": [
    "train_data.head()"
   ]
  },
  {
   "cell_type": "code",
   "execution_count": 35,
   "metadata": {},
   "outputs": [
    {
     "data": {
      "text/plain": [
       "(            time   Latitude  Longitude\n",
       " 2128  1645565574  27.921707 -81.968839\n",
       " 2129  1645565575  27.921707 -81.968839\n",
       " 2130  1645565576  27.921707 -81.968839\n",
       " 2131  1645565577  27.921707 -81.968839\n",
       " 2132  1645565578  27.921707 -81.968839,\n",
       " 0    0\n",
       " 1    0\n",
       " 2    0\n",
       " 3    0\n",
       " 4    0\n",
       " Name: signature_label, dtype: int64)"
      ]
     },
     "execution_count": 35,
     "metadata": {},
     "output_type": "execute_result"
    }
   ],
   "source": [
    "import pandas as pd\n",
    "from sklearn.model_selection import train_test_split\n",
    "from sklearn.preprocessing import MinMaxScaler\n",
    "from sklearn.ensemble import RandomForestClassifier\n",
    "\n",
    "columns_to_drop = ['signature_label', 'icao24', 'trip_number', 'Unnamed: 0']\n",
    "\n",
    "y_train = train_data['signature_label']\n",
    "X_train = train_data.drop(columns_to_drop, axis=1)\n",
    "\n",
    "y_test = test_data['signature_label']\n",
    "X_test = test_data.drop(columns_to_drop, axis=1)\n",
    "\n",
    "X_train.head(), y_test.head()"
   ]
  },
  {
   "cell_type": "code",
   "execution_count": 33,
   "metadata": {},
   "outputs": [],
   "source": [
    "scaler = MinMaxScaler()\n",
    "X_train_scaled = scaler.fit_transform(X_train)\n",
    "X_test_scaled = scaler.fit_transform(X_test)\n",
    "\n",
    "\n",
    "clf = RandomForestClassifier()\n",
    "clf.fit(X_train_scaled, y_train)\n",
    "\n",
    "y_pred = clf.predict(X_test_scaled)"
   ]
  },
  {
   "cell_type": "code",
   "execution_count": 34,
   "metadata": {},
   "outputs": [
    {
     "name": "stdout",
     "output_type": "stream",
     "text": [
      "Accuracy: 0.998006379585327\n"
     ]
    }
   ],
   "source": [
    "from sklearn.metrics import accuracy_score\n",
    "\n",
    "accuracy = accuracy_score(y_test, y_pred)\n",
    "\n",
    "print(\"Accuracy:\", accuracy)"
   ]
  }
 ],
 "metadata": {
  "kernelspec": {
   "display_name": "Python 3",
   "language": "python",
   "name": "python3"
  },
  "language_info": {
   "codemirror_mode": {
    "name": "ipython",
    "version": 3
   },
   "file_extension": ".py",
   "mimetype": "text/x-python",
   "name": "python",
   "nbconvert_exporter": "python",
   "pygments_lexer": "ipython3",
   "version": "3.11.5"
  },
  "orig_nbformat": 4
 },
 "nbformat": 4,
 "nbformat_minor": 2
}
