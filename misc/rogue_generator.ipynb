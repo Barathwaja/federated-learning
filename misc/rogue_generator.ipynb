{
 "cells": [
  {
   "cell_type": "code",
   "execution_count": 1,
   "metadata": {},
   "outputs": [],
   "source": [
    "import os\n",
    "\n",
    "import pandas as pd\n",
    "import numpy as np\n",
    "\n",
    "import matplotlib.pyplot as plt\n",
    "import seaborn as sns\n",
    "import plotly.express as px\n",
    "import plotly.graph_objects as go\n",
    "\n",
    "\n",
    "from pyspark.sql import SparkSession\n",
    "from pyspark.sql.functions import asc, lit"
   ]
  },
  {
   "cell_type": "markdown",
   "metadata": {},
   "source": [
    "##### Testing for 1 Flight Trip"
   ]
  },
  {
   "cell_type": "code",
   "execution_count": 2,
   "metadata": {},
   "outputs": [
    {
     "name": "stderr",
     "output_type": "stream",
     "text": [
      "23/10/04 11:18:29 WARN Utils: Your hostname, Barathwajas-MacBook-Pro.local resolves to a loopback address: 127.0.0.1; using 172.26.40.137 instead (on interface en0)\n",
      "23/10/04 11:18:29 WARN Utils: Set SPARK_LOCAL_IP if you need to bind to another address\n",
      "Setting default log level to \"WARN\".\n",
      "To adjust logging level use sc.setLogLevel(newLevel). For SparkR, use setLogLevel(newLevel).\n",
      "23/10/04 11:18:30 WARN NativeCodeLoader: Unable to load native-hadoop library for your platform... using builtin-java classes where applicable\n",
      "                                                                                \r"
     ]
    }
   ],
   "source": [
    "# Create a Spark session\n",
    "spark = SparkSession.builder \\\n",
    "    .appName(\"Rogue Generator\") \\\n",
    "    .getOrCreate()\n",
    "\n",
    "flights_file_path = os.path.join('dataset', 'raw', '0d02a8', '0d02a8_0.parquet')\n",
    "\n",
    "read_one_flight = spark.read.parquet(flights_file_path, header=True)"
   ]
  },
  {
   "cell_type": "code",
   "execution_count": 3,
   "metadata": {},
   "outputs": [],
   "source": [
    "def get_values_from_selected_columns(flight_data):\n",
    "    default_signature_label = 0\n",
    "\n",
    "    selected_cols = flight_data.select('time', 'icao24', 'lat', 'lon', 'heading', 'baroaltitude', \n",
    "                                     'geoaltitude', 'lastposupdate', 'lastcontact' , 'velocity', 'dropout_length') \\\n",
    "                        .orderBy(asc('time'))\n",
    "    \n",
    "    selected_cols = selected_cols.withColumn(\"signature\", lit(default_signature_label)) # Adding new column for capturing anomaly signature\n",
    "\n",
    "    return selected_cols"
   ]
  },
  {
   "cell_type": "code",
   "execution_count": 4,
   "metadata": {},
   "outputs": [],
   "source": [
    "one_flight = get_values_from_selected_columns(read_one_flight)"
   ]
  },
  {
   "cell_type": "code",
   "execution_count": 5,
   "metadata": {},
   "outputs": [
    {
     "name": "stdout",
     "output_type": "stream",
     "text": [
      "+----------+------+-----------------+------------------+------------------+------------------+------------------+----------------+----------------+------------------+--------------+---------+\n",
      "|      time|icao24|              lat|               lon|           heading|      baroaltitude|       geoaltitude|   lastposupdate|     lastcontact|          velocity|dropout_length|signature|\n",
      "+----------+------+-----------------+------------------+------------------+------------------+------------------+----------------+----------------+------------------+--------------+---------+\n",
      "|1645229867|0d02a8|30.18530894134004|-95.45196533203125|173.72671649091603|3596.6400000000003|2926.0800000000004|1.645229866313E9|1.645229866313E9|145.94713719703776|          null|        0|\n",
      "|1645229868|0d02a8|30.18530894134004|-95.45196533203125|173.72671649091603|3596.6400000000003|2926.0800000000004|1.645229866313E9|1.645229866313E9|145.94713719703776|           0.0|        0|\n",
      "|1645229869|0d02a8|30.18530894134004|-95.45196533203125|173.72671649091603|3596.6400000000003|2926.0800000000004|1.645229866313E9|1.645229866313E9|145.94713719703776|           0.0|        0|\n",
      "+----------+------+-----------------+------------------+------------------+------------------+------------------+----------------+----------------+------------------+--------------+---------+\n",
      "only showing top 3 rows\n",
      "\n"
     ]
    }
   ],
   "source": [
    "one_flight.show(3)"
   ]
  },
  {
   "cell_type": "code",
   "execution_count": 6,
   "metadata": {},
   "outputs": [],
   "source": [
    "def convert_to_pandas(get_flights):\n",
    "    return get_flights.toPandas()"
   ]
  },
  {
   "cell_type": "code",
   "execution_count": 7,
   "metadata": {},
   "outputs": [],
   "source": [
    "one_flight_df = convert_to_pandas(one_flight)"
   ]
  },
  {
   "cell_type": "code",
   "execution_count": 8,
   "metadata": {},
   "outputs": [
    {
     "data": {
      "text/html": [
       "<div>\n",
       "<style scoped>\n",
       "    .dataframe tbody tr th:only-of-type {\n",
       "        vertical-align: middle;\n",
       "    }\n",
       "\n",
       "    .dataframe tbody tr th {\n",
       "        vertical-align: top;\n",
       "    }\n",
       "\n",
       "    .dataframe thead th {\n",
       "        text-align: right;\n",
       "    }\n",
       "</style>\n",
       "<table border=\"1\" class=\"dataframe\">\n",
       "  <thead>\n",
       "    <tr style=\"text-align: right;\">\n",
       "      <th></th>\n",
       "      <th>time</th>\n",
       "      <th>icao24</th>\n",
       "      <th>lat</th>\n",
       "      <th>lon</th>\n",
       "      <th>heading</th>\n",
       "      <th>baroaltitude</th>\n",
       "      <th>geoaltitude</th>\n",
       "      <th>lastposupdate</th>\n",
       "      <th>lastcontact</th>\n",
       "      <th>velocity</th>\n",
       "      <th>dropout_length</th>\n",
       "      <th>signature</th>\n",
       "    </tr>\n",
       "  </thead>\n",
       "  <tbody>\n",
       "    <tr>\n",
       "      <th>0</th>\n",
       "      <td>1645229867</td>\n",
       "      <td>0d02a8</td>\n",
       "      <td>30.185309</td>\n",
       "      <td>-95.451965</td>\n",
       "      <td>173.726716</td>\n",
       "      <td>3596.64</td>\n",
       "      <td>2926.08</td>\n",
       "      <td>1.645230e+09</td>\n",
       "      <td>1.645230e+09</td>\n",
       "      <td>145.947137</td>\n",
       "      <td>NaN</td>\n",
       "      <td>0</td>\n",
       "    </tr>\n",
       "    <tr>\n",
       "      <th>1</th>\n",
       "      <td>1645229868</td>\n",
       "      <td>0d02a8</td>\n",
       "      <td>30.185309</td>\n",
       "      <td>-95.451965</td>\n",
       "      <td>173.726716</td>\n",
       "      <td>3596.64</td>\n",
       "      <td>2926.08</td>\n",
       "      <td>1.645230e+09</td>\n",
       "      <td>1.645230e+09</td>\n",
       "      <td>145.947137</td>\n",
       "      <td>0.0</td>\n",
       "      <td>0</td>\n",
       "    </tr>\n",
       "    <tr>\n",
       "      <th>2</th>\n",
       "      <td>1645229869</td>\n",
       "      <td>0d02a8</td>\n",
       "      <td>30.185309</td>\n",
       "      <td>-95.451965</td>\n",
       "      <td>173.726716</td>\n",
       "      <td>3596.64</td>\n",
       "      <td>2926.08</td>\n",
       "      <td>1.645230e+09</td>\n",
       "      <td>1.645230e+09</td>\n",
       "      <td>145.947137</td>\n",
       "      <td>0.0</td>\n",
       "      <td>0</td>\n",
       "    </tr>\n",
       "  </tbody>\n",
       "</table>\n",
       "</div>"
      ],
      "text/plain": [
       "         time  icao24        lat        lon     heading  baroaltitude  \\\n",
       "0  1645229867  0d02a8  30.185309 -95.451965  173.726716       3596.64   \n",
       "1  1645229868  0d02a8  30.185309 -95.451965  173.726716       3596.64   \n",
       "2  1645229869  0d02a8  30.185309 -95.451965  173.726716       3596.64   \n",
       "\n",
       "   geoaltitude  lastposupdate   lastcontact    velocity  dropout_length  \\\n",
       "0      2926.08   1.645230e+09  1.645230e+09  145.947137             NaN   \n",
       "1      2926.08   1.645230e+09  1.645230e+09  145.947137             0.0   \n",
       "2      2926.08   1.645230e+09  1.645230e+09  145.947137             0.0   \n",
       "\n",
       "   signature  \n",
       "0          0  \n",
       "1          0  \n",
       "2          0  "
      ]
     },
     "execution_count": 8,
     "metadata": {},
     "output_type": "execute_result"
    }
   ],
   "source": [
    "one_flight_df.head(3)"
   ]
  },
  {
   "cell_type": "code",
   "execution_count": 9,
   "metadata": {},
   "outputs": [
    {
     "data": {
      "image/png": "[encoded data removed]",
      "text/plain": [
       "<Figure size 1200x800 with 1 Axes>"
      ]
     },
     "metadata": {},
     "output_type": "display_data"
    }
   ],
   "source": [
    "# Create 3D plots for original data paths\n",
    "fig = plt.figure(figsize=(12, 8))\n",
    "ax1 = fig.add_subplot(121, projection='3d')\n",
    "\n",
    "# Plot original data with path\n",
    "ax1.scatter(one_flight_df['lon'], one_flight_df['lat'], one_flight_df['velocity'], c='blue', label='Original Data')\n",
    "ax1.plot(one_flight_df['lon'], one_flight_df['lat'], one_flight_df['velocity'], c='blue', alpha=0.5, label='Path')\n",
    "ax1.set_xlabel('Longitude')\n",
    "ax1.set_ylabel('Latitude')\n",
    "ax1.set_zlabel('Velocity')\n",
    "ax1.set_title('Original Data with Path (Lat, Lon, Velocity)')\n",
    "\n",
    "plt.tight_layout()\n",
    "plt.show()"
   ]
  },
  {
   "cell_type": "markdown",
   "metadata": {},
   "source": [
    "##### Introducing Noise using Akima Interpolation"
   ]
  },
  {
   "cell_type": "markdown",
   "metadata": {},
   "source": [
    "##### a. One Parameter Alone"
   ]
  },
  {
   "cell_type": "code",
   "execution_count": 10,
   "metadata": {},
   "outputs": [],
   "source": [
    "# import numpy as np\n",
    "# import matplotlib.pyplot as plt\n",
    "# from scipy.interpolate import Akima1DInterpolator\n",
    "\n",
    "\n",
    "# timestamps = np.copy(one_flight_df['time'])      # epochs timestamp\n",
    "# latitudes = np.copy(one_flight_df['lat'])        # deg\n",
    "# longitudes = np.copy(one_flight_df['lon'])       # deg\n",
    "# velocity = np.copy(one_flight_df['velocity'])    # meters/sec\n",
    "# signature_label = np.copy(one_flight_df['signature'])\n",
    "\n",
    "# num_points = 1000\n",
    "# noise_level = 100\n",
    "\n",
    "\n",
    "# start_time = timestamps[0]\n",
    "# end_time = timestamps[-1]\n",
    "\n",
    "# random_indices = np.random.choice(len(timestamps), num_points, replace=False)\n",
    "\n",
    "# while any(np.isclose(random_indices, start_time)) or any(np.isclose(random_indices, end_time)):\n",
    "#     random_indices = np.random.uniform(start_time, end_time, num_points)\n",
    "\n",
    "# for i in random_indices:\n",
    "#     latitudes[i] += np.random.uniform(-noise_level, noise_level)\n",
    "#     longitudes[i] += np.random.uniform(-noise_level, noise_level)\n",
    "#     velocity[i] += np.random.uniform(-noise_level, noise_level)\n",
    "#     signature_label[i] = 1\n",
    "\n",
    "# # Plot the original velocity, interpolated velocity, and noisy velocity\n",
    "# plt.figure(figsize=(10, 6))\n",
    "# plt.plot(one_flight_df['time'], one_flight_df['velocity'], 'o', label='Original Velocity', markersize=2)\n",
    "# # plt.plot(one_flight_df['time'], one_flight_df['velocity'], label='Interpolated Velocity', linestyle='--')\n",
    "# plt.plot(timestamps, velocity, label='Noisy Velocity', linestyle='-.')\n",
    "# plt.legend()\n",
    "# plt.title('Flight Velocity of Original v/s Noise')\n",
    "# plt.xlabel('Time (epoch timestamp)')\n",
    "# plt.ylabel('Velocity (metres/sec)')\n",
    "# plt.grid(True)\n",
    "# plt.show()"
   ]
  },
  {
   "cell_type": "markdown",
   "metadata": {},
   "source": [
    "#### Calculate the mean difference"
   ]
  },
  {
   "cell_type": "code",
   "execution_count": 11,
   "metadata": {},
   "outputs": [],
   "source": [
    "flight_info = [\n",
    "    # {\n",
    "    #     'flight_icao24': 'a14af7',\n",
    "    #     'trip_number': 0\n",
    "    # },\n",
    "    # {\n",
    "    #     'flight_icao24': 'a14af7',\n",
    "    #     'trip_number': 1\n",
    "    # },\n",
    "    {\n",
    "        'flight_icao24': 'ac3aeb',\n",
    "        'trip_number': 0\n",
    "    },\n",
    "    # {\n",
    "    #     'flight_icao24': 'ac3aeb',\n",
    "    #     'trip_number': 1\n",
    "    # },\n",
    "]"
   ]
  },
  {
   "cell_type": "code",
   "execution_count": 12,
   "metadata": {},
   "outputs": [],
   "source": [
    "from pyspark.sql.functions import col, from_unixtime, to_date, date_add, when, monotonically_increasing_id\n",
    "\n",
    "master_data = []\n",
    "\n",
    "for value in flight_info:\n",
    "    flights_file_path = os.path.join('dataset', 'raw', value[\"flight_icao24\"], \\\n",
    "                                     f'{value[\"flight_icao24\"] + \"_\" + str(value[\"trip_number\"])}.parquet')\n",
    "\n",
    "\n",
    "    read_one_flight = spark.read.parquet(flights_file_path, header=True)\n",
    "\n",
    "    selected_df = read_one_flight.select('time', 'lat', 'lon', 'geoaltitude') \\\n",
    "                            .orderBy(asc('time'))\n",
    "\n",
    "    selected_df = selected_df.withColumn(\"row_id\", monotonically_increasing_id())\n",
    "    selected_df = selected_df.withColumn(\"date\", to_date(from_unixtime(\"time\")))\n",
    "    selected_df = selected_df.withColumn(\"time\", from_unixtime(\"time\", \"HH:mm:ss\"))\n",
    "    selected_df = selected_df.withColumn(\"flight_trip\", lit(1))\n",
    "    selected_df = selected_df.withColumn(\"label\", lit(0))\n",
    "\n",
    "\n",
    "    master_data.append(selected_df) #Before Attack - Normal\n",
    "\n",
    "    for i in range(2):\n",
    "        selected_df = selected_df.withColumn(\"row_id\", monotonically_increasing_id())\n",
    "        selected_df = selected_df.withColumn(\"date\", date_add(selected_df[\"date\"], 1))\n",
    "        selected_df = selected_df.withColumn(\"flight_trip\", selected_df[\"flight_trip\"] + 1)\n",
    "        \n",
    "        master_data.append(selected_df)"
   ]
  },
  {
   "cell_type": "code",
   "execution_count": 13,
   "metadata": {},
   "outputs": [
    {
     "name": "stdout",
     "output_type": "stream",
     "text": [
      "3\n"
     ]
    }
   ],
   "source": [
    "print(len(master_data))\n",
    "\n",
    "# print(make_replica[1].head(1))\n",
    "# print(make_replica[2].head(1))\n"
   ]
  },
  {
   "cell_type": "code",
   "execution_count": 14,
   "metadata": {},
   "outputs": [],
   "source": [
    "def invoke_rogue_generator(flight_data, trip_id):\n",
    "    num_points = int(flight_data.shape[0] * 0.5)\n",
    "    \n",
    "    noise_level = 100\n",
    "\n",
    "    # start_time = 0\n",
    "    # end_time = selected_df.count() - 1\n",
    "\n",
    "    # print(f\"Start Index {start_time} and End Index {end_time}\")\n",
    "\n",
    "    random_indices = np.random.choice(flight_data.shape[0], num_points, replace=False)\n",
    "\n",
    "    print(random_indices)\n",
    "\n",
    "    # while any(np.isclose(random_indices, start_time)) or any(np.isclose(random_indices, end_time)):\n",
    "    #     pass\n",
    "    \n",
    "    \n",
    "    # for i in random_indices:\n",
    "    #     if flight_data.at[i, 'flight_trip'] == trip_id:\n",
    "    #         flight_data.at[i, 'geoaltitude'] += np.random.uniform(-noise_level, noise_level)\n",
    "    #         flight_data.at[i, 'label'] = 1\n",
    "\n",
    "    mask = (flight_data['flight_trip'] == trip_id) & flight_data.index.isin(random_indices)\n",
    "\n",
    "    selected_rows = flight_data[mask]\n",
    "\n",
    "    noise = np.random.uniform(-noise_level, noise_level, selected_rows.shape[0])\n",
    "\n",
    "    selected_rows['geoaltitude'] += noise\n",
    "    selected_rows['label'] = 1\n",
    "\n",
    "    # Update the original DataFrame with the modified selected rows\n",
    "    flight_data.loc[selected_rows.index] = selected_rows\n",
    "\n",
    "\n",
    "    # # Generate random noise for the selected rows\n",
    "    # noise = np.random.uniform(-noise_level, noise_level, num_points)\n",
    "\n",
    "    # print(noise)\n",
    "    # # Update 'geoaltitude' and 'label' columns using the mask\n",
    "    # flight_data.loc[mask, 'geoaltitude'] += noise[mask]\n",
    "    # flight_data.loc[mask, 'label'] = 1\n",
    "\n",
    "\n",
    "\n",
    "    # Create Akima interpolators for noisy data\n",
    "    #akima_interpolator_vel = Akima1DInterpolator(timestamps, velocity)\n",
    "    \n",
    "    # New Interpolation Points\n",
    "    # new_velocity = akima_interpolator_vel(new_time_values)\n",
    "    \n",
    "    # return row_id, flight_trip, date, time, \\\n",
    "    #     latitudes, longitudes, geoaltitude, \\\n",
    "    #         label"
   ]
  },
  {
   "cell_type": "markdown",
   "metadata": {},
   "source": [
    "#### Attack on Multiple Trips"
   ]
  },
  {
   "cell_type": "code",
   "execution_count": 15,
   "metadata": {},
   "outputs": [],
   "source": [
    "# from scipy.interpolate import Akima1DInterpolator\n",
    "\n",
    "# def invoke_rogue_generator(one_flight_df):\n",
    "\n",
    "#     # https://openskynetwork.github.io/opensky-api/rest.html\n",
    "\n",
    "#     timestamps = np.copy(one_flight_df['time'])      # epochs timestamp\n",
    "#     latitudes = np.copy(one_flight_df['lat'])        # deg\n",
    "#     longitudes = np.copy(one_flight_df['lon'])       # deg\n",
    "#     velocity = np.copy(one_flight_df['velocity'])    # meters/sec\n",
    "#     heading = np.copy(one_flight_df['heading'])         #\n",
    "#     baroaltitude = np.copy(one_flight_df['baroaltitude']) # meters\n",
    "#     geoaltitude = np.copy(one_flight_df['geoaltitude']) # meters\n",
    "#     signature_label = np.copy(one_flight_df['signature']) # binary\n",
    "    \n",
    "\n",
    "#     num_points = 50\n",
    "#     noise_level = 100\n",
    "\n",
    "#     start_time = timestamps[0]\n",
    "#     end_time = timestamps[-1]\n",
    "\n",
    "#     random_indices = np.random.choice(len(timestamps), num_points, replace=False)\n",
    "\n",
    "#     while any(np.isclose(random_indices, start_time)) or any(np.isclose(random_indices, end_time)):\n",
    "#         random_indices = np.random.uniform(start_time, end_time, num_points)\n",
    "\n",
    "#     for i in random_indices:\n",
    "#         # latitudes[i] += np.random.uniform(-noise_level, noise_level)\n",
    "#         # longitudes[i] += np.random.uniform(-noise_level, noise_level)\n",
    "#         geoaltitude[i] += np.random.uniform(-noise_level, noise_level)\n",
    "#         signature_label[i] = 1\n",
    "\n",
    "#     new_time_values = timestamps\n",
    "\n",
    "#     # Create Akima interpolators for noisy data\n",
    "#     akima_interpolator_vel = Akima1DInterpolator(timestamps, velocity)\n",
    "    \n",
    "#     # New Interpolation Points\n",
    "#     new_velocity = akima_interpolator_vel(new_time_values)\n",
    "    \n",
    "#     return new_time_values, latitudes, longitudes, new_velocity, \\\n",
    "#             heading, baroaltitude, geoaltitude, signature_label\n"
   ]
  },
  {
   "cell_type": "code",
   "execution_count": 16,
   "metadata": {},
   "outputs": [],
   "source": [
    "main_df = pd.DataFrame()\n",
    "\n",
    "for index, df in enumerate(master_data):\n",
    "    pandas_df = df.toPandas()\n",
    "    main_df = pd.concat([main_df, pandas_df], ignore_index=True)"
   ]
  },
  {
   "cell_type": "code",
   "execution_count": 17,
   "metadata": {},
   "outputs": [
    {
     "name": "stdout",
     "output_type": "stream",
     "text": [
      "       time        lat        lon  geoaltitude  row_id        date  \\\n",
      "0  08:03:02  30.399077 -97.567493       220.98       0  2022-02-19   \n",
      "1  08:03:03  30.399216 -97.567641       220.98       1  2022-02-19   \n",
      "2  08:03:04  30.399496 -97.567987       228.60       2  2022-02-19   \n",
      "3  08:03:05  30.399857 -97.568449       228.60       3  2022-02-19   \n",
      "4  08:03:06  30.400148 -97.568811       228.60       4  2022-02-19   \n",
      "\n",
      "   flight_trip  label  \n",
      "0            1      0  \n",
      "1            1      0  \n",
      "2            1      0  \n",
      "3            1      0  \n",
      "4            1      0  \n",
      "(5850, 8)\n"
     ]
    }
   ],
   "source": [
    "print(main_df.head())\n",
    "\n",
    "print(main_df.shape)"
   ]
  },
  {
   "cell_type": "code",
   "execution_count": 18,
   "metadata": {},
   "outputs": [],
   "source": [
    "main_df['date'] = main_df['date'].apply(lambda x: x.strftime('%Y-%m-%d'))\n",
    "\n",
    "main_df['datetime'] = pd.to_datetime(main_df['date'] + ' ' + main_df['time'])\n",
    "\n",
    "# Drop the 'date' and 'time' columns if needed\n",
    "main_df = main_df.drop(['date', 'time'], axis=1)\n",
    "\n",
    "main_df = main_df.sort_values(by='datetime', ascending=True)\n",
    "\n",
    "# Reset the index if needed\n",
    "main_df = main_df.reset_index(drop=True)"
   ]
  },
  {
   "cell_type": "code",
   "execution_count": 19,
   "metadata": {},
   "outputs": [
    {
     "data": {
      "text/html": [
       "<div>\n",
       "<style scoped>\n",
       "    .dataframe tbody tr th:only-of-type {\n",
       "        vertical-align: middle;\n",
       "    }\n",
       "\n",
       "    .dataframe tbody tr th {\n",
       "        vertical-align: top;\n",
       "    }\n",
       "\n",
       "    .dataframe thead th {\n",
       "        text-align: right;\n",
       "    }\n",
       "</style>\n",
       "<table border=\"1\" class=\"dataframe\">\n",
       "  <thead>\n",
       "    <tr style=\"text-align: right;\">\n",
       "      <th></th>\n",
       "      <th>lat</th>\n",
       "      <th>lon</th>\n",
       "      <th>geoaltitude</th>\n",
       "      <th>row_id</th>\n",
       "      <th>flight_trip</th>\n",
       "      <th>label</th>\n",
       "      <th>datetime</th>\n",
       "    </tr>\n",
       "  </thead>\n",
       "  <tbody>\n",
       "    <tr>\n",
       "      <th>0</th>\n",
       "      <td>30.399077</td>\n",
       "      <td>-97.567493</td>\n",
       "      <td>220.98</td>\n",
       "      <td>0</td>\n",
       "      <td>1</td>\n",
       "      <td>0</td>\n",
       "      <td>2022-02-19 08:03:02</td>\n",
       "    </tr>\n",
       "    <tr>\n",
       "      <th>1</th>\n",
       "      <td>30.399216</td>\n",
       "      <td>-97.567641</td>\n",
       "      <td>220.98</td>\n",
       "      <td>1</td>\n",
       "      <td>1</td>\n",
       "      <td>0</td>\n",
       "      <td>2022-02-19 08:03:03</td>\n",
       "    </tr>\n",
       "    <tr>\n",
       "      <th>2</th>\n",
       "      <td>30.399496</td>\n",
       "      <td>-97.567987</td>\n",
       "      <td>228.60</td>\n",
       "      <td>2</td>\n",
       "      <td>1</td>\n",
       "      <td>0</td>\n",
       "      <td>2022-02-19 08:03:04</td>\n",
       "    </tr>\n",
       "    <tr>\n",
       "      <th>3</th>\n",
       "      <td>30.399857</td>\n",
       "      <td>-97.568449</td>\n",
       "      <td>228.60</td>\n",
       "      <td>3</td>\n",
       "      <td>1</td>\n",
       "      <td>0</td>\n",
       "      <td>2022-02-19 08:03:05</td>\n",
       "    </tr>\n",
       "    <tr>\n",
       "      <th>4</th>\n",
       "      <td>30.400148</td>\n",
       "      <td>-97.568811</td>\n",
       "      <td>228.60</td>\n",
       "      <td>4</td>\n",
       "      <td>1</td>\n",
       "      <td>0</td>\n",
       "      <td>2022-02-19 08:03:06</td>\n",
       "    </tr>\n",
       "  </tbody>\n",
       "</table>\n",
       "</div>"
      ],
      "text/plain": [
       "         lat        lon  geoaltitude  row_id  flight_trip  label  \\\n",
       "0  30.399077 -97.567493       220.98       0            1      0   \n",
       "1  30.399216 -97.567641       220.98       1            1      0   \n",
       "2  30.399496 -97.567987       228.60       2            1      0   \n",
       "3  30.399857 -97.568449       228.60       3            1      0   \n",
       "4  30.400148 -97.568811       228.60       4            1      0   \n",
       "\n",
       "             datetime  \n",
       "0 2022-02-19 08:03:02  \n",
       "1 2022-02-19 08:03:03  \n",
       "2 2022-02-19 08:03:04  \n",
       "3 2022-02-19 08:03:05  \n",
       "4 2022-02-19 08:03:06  "
      ]
     },
     "execution_count": 19,
     "metadata": {},
     "output_type": "execute_result"
    }
   ],
   "source": [
    "main_df.head()"
   ]
  },
  {
   "cell_type": "code",
   "execution_count": 20,
   "metadata": {},
   "outputs": [],
   "source": [
    "main_df = main_df.drop_duplicates()\n",
    "main_df = main_df.dropna()\n",
    "\n",
    "main_df = main_df[~(main_df.iloc[:, :-1] == 0).all(axis=1)]"
   ]
  },
  {
   "cell_type": "code",
   "execution_count": 21,
   "metadata": {},
   "outputs": [
    {
     "name": "stdout",
     "output_type": "stream",
     "text": [
      "[4639 1365 5192 ... 2885 5056 1572]\n",
      "[2522 4599 2652 ... 5257 2863 2698]\n"
     ]
    },
    {
     "name": "stderr",
     "output_type": "stream",
     "text": [
      "/var/folders/1z/wt24vn8s33d2cffr4pwff3ch0000gn/T/ipykernel_1416/3718425498.py:30: SettingWithCopyWarning: \n",
      "A value is trying to be set on a copy of a slice from a DataFrame.\n",
      "Try using .loc[row_indexer,col_indexer] = value instead\n",
      "\n",
      "See the caveats in the documentation: https://pandas.pydata.org/pandas-docs/stable/user_guide/indexing.html#returning-a-view-versus-a-copy\n",
      "  selected_rows['geoaltitude'] += noise\n",
      "/var/folders/1z/wt24vn8s33d2cffr4pwff3ch0000gn/T/ipykernel_1416/3718425498.py:31: SettingWithCopyWarning: \n",
      "A value is trying to be set on a copy of a slice from a DataFrame.\n",
      "Try using .loc[row_indexer,col_indexer] = value instead\n",
      "\n",
      "See the caveats in the documentation: https://pandas.pydata.org/pandas-docs/stable/user_guide/indexing.html#returning-a-view-versus-a-copy\n",
      "  selected_rows['label'] = 1\n",
      "/var/folders/1z/wt24vn8s33d2cffr4pwff3ch0000gn/T/ipykernel_1416/3718425498.py:34: FutureWarning: Setting an item of incompatible dtype is deprecated and will raise in a future error of pandas. Value '[1 1 1 1 1 1 1 1 1 1 1 1 1 1 1 1 1 1 1 1 1 1 1 1 1 1 1 1 1 1 1 1 1 1 1 1 1\n",
      " 1 1 1 1 1 1 1 1 1 1 1 1 1 1 1 1 1 1 1 1 1 1 1 1 1 1 1 1 1 1 1 1 1 1 1 1 1\n",
      " 1 1 1 1 1 1 1 1 1 1 1 1 1 1 1 1 1 1 1 1 1 1 1 1 1 1 1 1 1 1 1 1 1 1 1 1 1\n",
      " 1 1 1 1 1 1 1 1 1 1 1 1 1 1 1 1 1 1 1 1 1 1 1 1 1 1 1 1 1 1 1 1 1 1 1 1 1\n",
      " 1 1 1 1 1 1 1 1 1 1 1 1 1 1 1 1 1 1 1 1 1 1 1 1 1 1 1 1 1 1 1 1 1 1 1 1 1\n",
      " 1 1 1 1 1 1 1 1 1 1 1 1 1 1 1 1 1 1 1 1 1 1 1 1 1 1 1 1 1 1 1 1 1 1 1 1 1\n",
      " 1 1 1 1 1 1 1 1 1 1 1 1 1 1 1 1 1 1 1 1 1 1 1 1 1 1 1 1 1 1 1 1 1 1 1 1 1\n",
      " 1 1 1 1 1 1 1 1 1 1 1 1 1 1 1 1 1 1 1 1 1 1 1 1 1 1 1 1 1 1 1 1 1 1 1 1 1\n",
      " 1 1 1 1 1 1 1 1 1 1 1 1 1 1 1 1 1 1 1 1 1 1 1 1 1 1 1 1 1 1 1 1 1 1 1 1 1\n",
      " 1 1 1 1 1 1 1 1 1 1 1 1 1 1 1 1 1 1 1 1 1 1 1 1 1 1 1 1 1 1 1 1 1 1 1 1 1\n",
      " 1 1 1 1 1 1 1 1 1 1 1 1 1 1 1 1 1 1 1 1 1 1 1 1 1 1 1 1 1 1 1 1 1 1 1 1 1\n",
      " 1 1 1 1 1 1 1 1 1 1 1 1 1 1 1 1 1 1 1 1 1 1 1 1 1 1 1 1 1 1 1 1 1 1 1 1 1\n",
      " 1 1 1 1 1 1 1 1 1 1 1 1 1 1 1 1 1 1 1 1 1 1 1 1 1 1 1 1 1 1 1 1 1 1 1 1 1\n",
      " 1 1 1 1 1 1 1 1 1 1 1 1 1 1 1 1 1 1 1 1 1 1 1 1 1 1 1 1 1 1 1 1 1 1 1 1 1\n",
      " 1 1 1 1 1 1 1 1 1 1 1 1 1 1 1 1 1 1 1 1 1 1 1 1 1 1 1 1 1 1 1 1 1 1 1 1 1\n",
      " 1 1 1 1 1 1 1 1 1 1 1 1 1 1 1 1 1 1 1 1 1 1 1 1 1 1 1 1 1 1 1 1 1 1 1 1 1\n",
      " 1 1 1 1 1 1 1 1 1 1 1 1 1 1 1 1 1 1 1 1 1 1 1 1 1 1 1 1 1 1 1 1 1 1 1 1 1\n",
      " 1 1 1 1 1 1 1 1 1 1 1 1 1 1 1 1 1 1 1 1 1 1 1 1 1 1 1 1 1 1 1 1 1 1 1 1 1\n",
      " 1 1 1 1 1 1 1 1 1 1 1 1 1 1 1 1 1 1 1 1 1 1 1 1 1 1 1 1 1 1 1 1 1 1 1 1 1\n",
      " 1 1 1 1 1 1 1 1 1 1 1 1 1 1 1 1 1 1 1 1 1 1 1 1 1 1 1 1 1 1 1 1 1 1 1 1 1\n",
      " 1 1 1 1 1 1 1 1 1 1 1 1 1 1 1 1 1 1 1 1 1 1 1 1 1 1 1 1 1 1 1 1 1 1 1 1 1\n",
      " 1 1 1 1 1 1 1 1 1 1 1 1 1 1 1 1 1 1 1 1 1 1 1 1 1 1 1 1 1 1 1 1 1 1 1 1 1\n",
      " 1 1 1 1 1 1 1 1 1 1 1 1 1 1 1 1 1 1 1 1 1 1 1 1 1 1 1 1 1 1 1 1 1 1 1 1 1\n",
      " 1 1 1 1 1 1 1 1 1 1 1 1 1 1 1 1 1 1 1 1 1 1 1 1 1 1 1 1 1 1 1 1 1 1 1 1 1\n",
      " 1 1 1 1 1 1 1 1 1 1 1 1 1 1 1 1 1 1 1 1 1 1 1 1 1 1 1 1 1 1 1 1 1 1 1 1 1\n",
      " 1 1 1 1 1 1 1 1 1 1 1 1 1 1 1 1 1 1 1 1 1 1 1 1 1 1 1 1 1 1 1]' has dtype incompatible with int32, please explicitly cast to a compatible dtype first.\n",
      "  flight_data.loc[selected_rows.index] = selected_rows\n"
     ]
    }
   ],
   "source": [
    "# filtered_df = main_df[main_df['flight_trip'] == 2]\n",
    "\n",
    "# new_row_id, new_flight_trip, new_date, new_time, \\\n",
    "#         new_latitudes, new_longitudes, new_geoaltitude, \\\n",
    "#             new_label = invoke_rogue_generator(filtered_df)\n",
    "\n",
    "\n",
    "invoke_rogue_generator(main_df, 2)\n",
    "invoke_rogue_generator(main_df, 3)"
   ]
  },
  {
   "cell_type": "code",
   "execution_count": 22,
   "metadata": {},
   "outputs": [
    {
     "data": {
      "text/plain": [
       "label\n",
       "0    3894\n",
       "1    1956\n",
       "Name: count, dtype: int64"
      ]
     },
     "execution_count": 22,
     "metadata": {},
     "output_type": "execute_result"
    }
   ],
   "source": [
    "label_count = main_df['label'].value_counts()\n",
    "\n",
    "label_count"
   ]
  },
  {
   "cell_type": "code",
   "execution_count": 23,
   "metadata": {},
   "outputs": [],
   "source": [
    "main_df.to_csv(os.path.join('dataset', 'processed', 'ac3aeb_rogue.csv'))"
   ]
  },
  {
   "cell_type": "code",
   "execution_count": 24,
   "metadata": {},
   "outputs": [],
   "source": [
    "# data = {\n",
    "#     'row_id': new_row_id, \n",
    "#     'flight_trip': new_flight_trip, \n",
    "#     'date':  new_date, \n",
    "#     'time': new_time,\n",
    "#     'latitude': new_latitudes,\n",
    "#     'longitudes': new_longitudes,\n",
    "#     'geoaltitude': new_geoaltitude,\n",
    "#     'label': new_label\n",
    "# }\n",
    "\n",
    "# df = pd.DataFrame(data)\n",
    "# file_name = f'{value[\"flight_icao24\"] + \"_\" + str(value[\"trip_number\"]) + \".csv\"}'\n",
    "# df.to_csv(os.path.join('dataset', 'processed', file_name))"
   ]
  }
 ],
 "metadata": {
  "kernelspec": {
   "display_name": "Python 3",
   "language": "python",
   "name": "python3"
  },
  "language_info": {
   "codemirror_mode": {
    "name": "ipython",
    "version": 3
   },
   "file_extension": ".py",
   "mimetype": "text/x-python",
   "name": "python",
   "nbconvert_exporter": "python",
   "pygments_lexer": "ipython3",
   "version": "3.11.5"
  },
  "orig_nbformat": 4
 },
 "nbformat": 4,
 "nbformat_minor": 2
}
