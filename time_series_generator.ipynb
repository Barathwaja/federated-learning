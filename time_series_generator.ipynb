{
 "cells": [
  {
   "cell_type": "code",
   "execution_count": 58,
   "metadata": {},
   "outputs": [],
   "source": [
    "import os\n",
    "\n",
    "import pandas as pd\n",
    "import numpy as np\n",
    "\n",
    "import matplotlib.pyplot as plt\n",
    "import seaborn as sns\n",
    "import plotly.graph_objects as go\n",
    "\n",
    "\n",
    "from pyspark.sql import SparkSession\n",
    "from pyspark.sql.functions import asc, lit\n",
    "\n",
    "from pyspark.sql.functions import col, \\\n",
    "    from_unixtime, to_date, date_add, when, monotonically_increasing_id, window, mean, count\n",
    "from pyspark.sql.types import TimestampType\n"
   ]
  },
  {
   "cell_type": "code",
   "execution_count": 59,
   "metadata": {},
   "outputs": [],
   "source": [
    "# Create a Spark session\n",
    "spark = SparkSession.builder \\\n",
    "    .appName(\"Time SeriesGenerator\") \\\n",
    "    .getOrCreate()"
   ]
  },
  {
   "cell_type": "code",
   "execution_count": 60,
   "metadata": {},
   "outputs": [
    {
     "data": {
      "text/html": [
       "\n",
       "            <div>\n",
       "                <p><b>SparkSession - in-memory</b></p>\n",
       "                \n",
       "        <div>\n",
       "            <p><b>SparkContext</b></p>\n",
       "\n",
       "            <p><a href=\"http://172.16.131.208:4040\">Spark UI</a></p>\n",
       "\n",
       "            <dl>\n",
       "              <dt>Version</dt>\n",
       "                <dd><code>v3.4.1</code></dd>\n",
       "              <dt>Master</dt>\n",
       "                <dd><code>local[*]</code></dd>\n",
       "              <dt>AppName</dt>\n",
       "                <dd><code>Time SeriesGenerator</code></dd>\n",
       "            </dl>\n",
       "        </div>\n",
       "        \n",
       "            </div>\n",
       "        "
      ],
      "text/plain": [
       "<pyspark.sql.session.SparkSession at 0x137e8ea50>"
      ]
     },
     "execution_count": 60,
     "metadata": {},
     "output_type": "execute_result"
    }
   ],
   "source": [
    "spark"
   ]
  },
  {
   "cell_type": "code",
   "execution_count": 61,
   "metadata": {},
   "outputs": [],
   "source": [
    "FLIGHT_ICAO = 'a7124d' #a7124d"
   ]
  },
  {
   "cell_type": "code",
   "execution_count": 62,
   "metadata": {},
   "outputs": [],
   "source": [
    "# flights_file_path = os.path.join('dataset', 'raw', FLIGHT_ICAO)\n",
    "\n",
    "# flights_file_path = os.path.join('dataset', 'raw', 'batch-2', '*')\n",
    "\n",
    "flights_file_path = os.path.join('dataset', 'raw', FLIGHT_ICAO , f'{FLIGHT_ICAO}_0.parquet')\n",
    "\n",
    "read_flights = spark.read.parquet(flights_file_path, header=True)"
   ]
  },
  {
   "cell_type": "code",
   "execution_count": 63,
   "metadata": {},
   "outputs": [],
   "source": [
    "def get_values_from_selected_columns(flight_data):\n",
    "\n",
    "    selected_cols = flight_data.select('time', 'icao24', 'geoaltitude') \\\n",
    "                        .orderBy(asc('time'))\n",
    "    \n",
    "    selected_cols = selected_cols.withColumn(\"datetime\", from_unixtime(\"time\"))\n",
    "\n",
    "    return selected_cols"
   ]
  },
  {
   "cell_type": "code",
   "execution_count": 64,
   "metadata": {},
   "outputs": [],
   "source": [
    "flight_df = get_values_from_selected_columns(read_flights)"
   ]
  },
  {
   "cell_type": "code",
   "execution_count": 65,
   "metadata": {},
   "outputs": [
    {
     "name": "stdout",
     "output_type": "stream",
     "text": [
      "+----------+------+------------------+-------------------+\n",
      "|      time|icao24|       geoaltitude|           datetime|\n",
      "+----------+------+------------------+-------------------+\n",
      "|1645384743|a7124d|              null|2022-02-20 13:19:03|\n",
      "|1645384744|a7124d|1165.8600000000001|2022-02-20 13:19:04|\n",
      "|1645384745|a7124d|1165.8600000000001|2022-02-20 13:19:05|\n",
      "+----------+------+------------------+-------------------+\n",
      "only showing top 3 rows\n",
      "\n"
     ]
    }
   ],
   "source": [
    "flight_df.show(3)"
   ]
  },
  {
   "cell_type": "code",
   "execution_count": 66,
   "metadata": {},
   "outputs": [
    {
     "data": {
      "text/plain": [
       "1086"
      ]
     },
     "execution_count": 66,
     "metadata": {},
     "output_type": "execute_result"
    }
   ],
   "source": [
    "flight_df.count()"
   ]
  },
  {
   "cell_type": "markdown",
   "metadata": {},
   "source": [
    "#### Preprocessing"
   ]
  },
  {
   "cell_type": "markdown",
   "metadata": {},
   "source": [
    "##### 1. Duplicates"
   ]
  },
  {
   "cell_type": "code",
   "execution_count": 67,
   "metadata": {},
   "outputs": [
    {
     "name": "stdout",
     "output_type": "stream",
     "text": [
      "+----+------+-----------+--------+-----+\n",
      "|time|icao24|geoaltitude|datetime|count|\n",
      "+----+------+-----------+--------+-----+\n",
      "+----+------+-----------+--------+-----+\n",
      "\n"
     ]
    }
   ],
   "source": [
    "updated_flight_df = flight_df.groupBy(flight_df.columns)\\\n",
    "    .agg(count('*').alias(\"count\"))\\\n",
    "        .filter(col(\"count\") > 1)\n",
    "\n",
    "updated_flight_df.show()"
   ]
  },
  {
   "cell_type": "code",
   "execution_count": 68,
   "metadata": {},
   "outputs": [],
   "source": [
    "updated_flight_df = flight_df.dropDuplicates()"
   ]
  },
  {
   "cell_type": "code",
   "execution_count": 69,
   "metadata": {},
   "outputs": [
    {
     "name": "stdout",
     "output_type": "stream",
     "text": [
      "+----------+------+------------------+-------------------+\n",
      "|      time|icao24|       geoaltitude|           datetime|\n",
      "+----------+------+------------------+-------------------+\n",
      "|1645385038|a7124d|           1363.98|2022-02-20 13:23:58|\n",
      "|1645385247|a7124d|1325.8799999999999|2022-02-20 13:27:27|\n",
      "|1645385281|a7124d|           1386.84|2022-02-20 13:28:01|\n",
      "|1645385330|a7124d|1341.1200000000001|2022-02-20 13:28:50|\n",
      "|1645385679|a7124d|           1341.12|2022-02-20 13:34:39|\n",
      "|1645385792|a7124d|           1341.12|2022-02-20 13:36:32|\n",
      "|1645385801|a7124d|           1341.12|2022-02-20 13:36:41|\n",
      "|1645384778|a7124d|           1234.44|2022-02-20 13:19:38|\n",
      "|1645384889|a7124d|            1333.5|2022-02-20 13:21:29|\n",
      "|1645384994|a7124d|           1386.84|2022-02-20 13:23:14|\n",
      "|1645385067|a7124d|           1363.98|2022-02-20 13:24:27|\n",
      "|1645384870|a7124d|           1341.12|2022-02-20 13:21:10|\n",
      "|1645385329|a7124d|           1348.74|2022-02-20 13:28:49|\n",
      "|1645385158|a7124d|           1363.98|2022-02-20 13:25:58|\n",
      "|1645385226|a7124d|           1318.26|2022-02-20 13:27:06|\n",
      "|1645385472|a7124d|1325.8799999999999|2022-02-20 13:31:12|\n",
      "|1645385519|a7124d|           1348.74|2022-02-20 13:31:59|\n",
      "|1645385584|a7124d|           1341.12|2022-02-20 13:33:04|\n",
      "|1645385646|a7124d|           1341.12|2022-02-20 13:34:06|\n",
      "|1645385825|a7124d|           1341.12|2022-02-20 13:37:05|\n",
      "+----------+------+------------------+-------------------+\n",
      "only showing top 20 rows\n",
      "\n"
     ]
    }
   ],
   "source": [
    "updated_flight_df.show()"
   ]
  },
  {
   "cell_type": "markdown",
   "metadata": {},
   "source": [
    "##### 2. Drop NAs"
   ]
  },
  {
   "cell_type": "code",
   "execution_count": 70,
   "metadata": {},
   "outputs": [],
   "source": [
    "updated_flight_df = updated_flight_df.dropna(how='any', thresh=None, subset=None)"
   ]
  },
  {
   "cell_type": "markdown",
   "metadata": {},
   "source": [
    "#### Calculating Mean"
   ]
  },
  {
   "cell_type": "code",
   "execution_count": 71,
   "metadata": {},
   "outputs": [
    {
     "name": "stdout",
     "output_type": "stream",
     "text": [
      "+------+------------------------------------------+------------------+\n",
      "|icao24|window                                    |geoaltitude       |\n",
      "+------+------------------------------------------+------------------+\n",
      "|a7124d|{2022-02-20 13:18:00, 2022-02-20 13:20:00}|null              |\n",
      "|a7124d|{2022-02-20 13:18:00, 2022-02-20 13:20:00}|1165.8600000000001|\n",
      "|a7124d|{2022-02-20 13:18:00, 2022-02-20 13:20:00}|1165.8600000000001|\n",
      "|a7124d|{2022-02-20 13:18:00, 2022-02-20 13:20:00}|1165.8600000000001|\n",
      "|a7124d|{2022-02-20 13:18:00, 2022-02-20 13:20:00}|1173.48           |\n",
      "+------+------------------------------------------+------------------+\n",
      "only showing top 5 rows\n",
      "\n"
     ]
    }
   ],
   "source": [
    "# Convert the timestamp column to a TimestampType\n",
    "mean_calculated_df = flight_df.withColumn(\"datetime\", flight_df[\"datetime\"].cast(TimestampType()))\n",
    "\n",
    "window_size = \"2 minutes\"\n",
    "\n",
    "mean_calculated_df = mean_calculated_df.withColumn(\"window\", window(\"datetime\", window_size)).select('icao24', 'window', 'geoaltitude')\n",
    "\n",
    "mean_calculated_df.show(5, truncate=False)"
   ]
  },
  {
   "cell_type": "code",
   "execution_count": 72,
   "metadata": {},
   "outputs": [
    {
     "name": "stdout",
     "output_type": "stream",
     "text": [
      "+------------------------------------------+------------------+\n",
      "|window                                    |mean_geoaltitude  |\n",
      "+------------------------------------------+------------------+\n",
      "|{2022-02-20 13:18:00, 2022-02-20 13:20:00}|1214.1653571428567|\n",
      "|{2022-02-20 13:20:00, 2022-02-20 13:22:00}|1320.863499999999 |\n",
      "|{2022-02-20 13:22:00, 2022-02-20 13:24:00}|1361.1860000000008|\n",
      "|{2022-02-20 13:24:00, 2022-02-20 13:26:00}|1368.425          |\n",
      "|{2022-02-20 13:26:00, 2022-02-20 13:28:00}|1354.454999999999 |\n",
      "|{2022-02-20 13:28:00, 2022-02-20 13:30:00}|1356.0424999999996|\n",
      "|{2022-02-20 13:30:00, 2022-02-20 13:32:00}|1335.4684999999993|\n",
      "|{2022-02-20 13:32:00, 2022-02-20 13:34:00}|1341.5644999999977|\n",
      "|{2022-02-20 13:34:00, 2022-02-20 13:36:00}|1341.1199999999978|\n",
      "|{2022-02-20 13:36:00, 2022-02-20 13:38:00}|1341.1199999999994|\n",
      "+------------------------------------------+------------------+\n",
      "\n"
     ]
    }
   ],
   "source": [
    "agg_df = mean_calculated_df.groupBy(\"window\")\\\n",
    "        .agg(mean(flight_df['geoaltitude']).alias(\"mean_geoaltitude\")).orderBy(asc('window'))\n",
    "\n",
    "\n",
    "agg_df.show(truncate=False)"
   ]
  },
  {
   "cell_type": "code",
   "execution_count": 73,
   "metadata": {},
   "outputs": [
    {
     "data": {
      "text/plain": [
       "10"
      ]
     },
     "execution_count": 73,
     "metadata": {},
     "output_type": "execute_result"
    }
   ],
   "source": [
    "agg_df.count()"
   ]
  },
  {
   "cell_type": "code",
   "execution_count": 74,
   "metadata": {},
   "outputs": [],
   "source": [
    "agg_df.toPandas().to_csv(os.path.join('dataset', 'processed', 'geoaltitude', f'testing_flights{FLIGHT_ICAO}_0.csv'))"
   ]
  },
  {
   "cell_type": "code",
   "execution_count": 75,
   "metadata": {},
   "outputs": [],
   "source": [
    "# from pyspark.sql.window import Window\n",
    "# from pyspark.sql.functions import col, expr\n",
    "\n",
    "# window_size = 3\n",
    "# horizon = 2\n",
    "\n",
    "# # Create a window specification for ordering by an arbitrary column (you can use a timestamp column if available)\n",
    "# window_spec = Window.orderBy(expr(\"monotonically_increasing_id()\"))\n",
    "\n",
    "# for i in range(window_size + horizon):\n",
    "#     agg_df = agg_df.withColumn(f\"t_plus_{1 * i}\", expr(f\"lead(mean_geoaltitude, {1 * i})\").over(window_spec))\n",
    "\n",
    "# selected_columns = [f\"t_plus_{1 * i}\" for i in range(window_size)]\n",
    "\n",
    "# windowed_df = agg_df.select(*selected_columns).na.drop()\n",
    "\n",
    "# windowed_df.show()"
   ]
  },
  {
   "cell_type": "code",
   "execution_count": 76,
   "metadata": {},
   "outputs": [],
   "source": [
    "# windowed_df.toPandas().to_csv(os.path.join('dataset', 'processed', 'geoaltitude', f'batch-2_full_flights.csv'))"
   ]
  }
 ],
 "metadata": {
  "kernelspec": {
   "display_name": "Python 3",
   "language": "python",
   "name": "python3"
  },
  "language_info": {
   "codemirror_mode": {
    "name": "ipython",
    "version": 3
   },
   "file_extension": ".py",
   "mimetype": "text/x-python",
   "name": "python",
   "nbconvert_exporter": "python",
   "pygments_lexer": "ipython3",
   "version": "3.11.5"
  },
  "orig_nbformat": 4
 },
 "nbformat": 4,
 "nbformat_minor": 2
}
