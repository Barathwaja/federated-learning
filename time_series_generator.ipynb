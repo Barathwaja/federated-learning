{
 "cells": [
  {
   "cell_type": "code",
   "execution_count": 20,
   "metadata": {},
   "outputs": [],
   "source": [
    "import os\n",
    "\n",
    "import pandas as pd\n",
    "import numpy as np\n",
    "\n",
    "import matplotlib.pyplot as plt\n",
    "import seaborn as sns\n",
    "import plotly.graph_objects as go\n",
    "\n",
    "\n",
    "from pyspark.sql import SparkSession\n",
    "from pyspark.sql.functions import asc, lit\n",
    "\n",
    "from pyspark.sql.functions import col, \\\n",
    "    from_unixtime, to_date, date_add, when, monotonically_increasing_id, window, mean, count\n",
    "from pyspark.sql.types import TimestampType\n"
   ]
  },
  {
   "cell_type": "code",
   "execution_count": 21,
   "metadata": {},
   "outputs": [],
   "source": [
    "# Create a Spark session\n",
    "spark = SparkSession.builder \\\n",
    "    .appName(\"Time SeriesGenerator\") \\\n",
    "    .getOrCreate()"
   ]
  },
  {
   "cell_type": "code",
   "execution_count": 22,
   "metadata": {},
   "outputs": [
    {
     "data": {
      "text/html": [
       "\n",
       "            <div>\n",
       "                <p><b>SparkSession - in-memory</b></p>\n",
       "                \n",
       "        <div>\n",
       "            <p><b>SparkContext</b></p>\n",
       "\n",
       "            <p><a href=\"http://172.26.41.234:4040\">Spark UI</a></p>\n",
       "\n",
       "            <dl>\n",
       "              <dt>Version</dt>\n",
       "                <dd><code>v3.4.1</code></dd>\n",
       "              <dt>Master</dt>\n",
       "                <dd><code>local[*]</code></dd>\n",
       "              <dt>AppName</dt>\n",
       "                <dd><code>Time SeriesGenerator</code></dd>\n",
       "            </dl>\n",
       "        </div>\n",
       "        \n",
       "            </div>\n",
       "        "
      ],
      "text/plain": [
       "<pyspark.sql.session.SparkSession at 0x130412b10>"
      ]
     },
     "execution_count": 22,
     "metadata": {},
     "output_type": "execute_result"
    }
   ],
   "source": [
    "spark"
   ]
  },
  {
   "cell_type": "code",
   "execution_count": 23,
   "metadata": {},
   "outputs": [],
   "source": [
    "# FLIGHT_ICAO = 'a7124d' #a7124d\n",
    "\n",
    "FLIGHT_ICAO = 'a64ef7'"
   ]
  },
  {
   "cell_type": "code",
   "execution_count": 24,
   "metadata": {},
   "outputs": [],
   "source": [
    "# flights_file_path = os.path.join('dataset', 'raw', FLIGHT_ICAO)\n",
    "\n",
    "# flights_file_path = os.path.join('dataset', 'raw', 'batch-2', '*')\n",
    "\n",
    "flights_file_path = os.path.join('dataset', 'raw', FLIGHT_ICAO , f'{FLIGHT_ICAO}_0.parquet')\n",
    "\n",
    "read_flights = spark.read.parquet(flights_file_path, header=True)"
   ]
  },
  {
   "cell_type": "code",
   "execution_count": 25,
   "metadata": {},
   "outputs": [],
   "source": [
    "def get_values_from_selected_columns(flight_data):\n",
    "\n",
    "    selected_cols = flight_data.select('time', 'icao24', 'geoaltitude') \\\n",
    "                        .orderBy(asc('time'))\n",
    "    \n",
    "    selected_cols = selected_cols.withColumn(\"datetime\", from_unixtime(\"time\"))\n",
    "\n",
    "    return selected_cols"
   ]
  },
  {
   "cell_type": "code",
   "execution_count": 26,
   "metadata": {},
   "outputs": [],
   "source": [
    "flight_df = get_values_from_selected_columns(read_flights)"
   ]
  },
  {
   "cell_type": "code",
   "execution_count": 27,
   "metadata": {},
   "outputs": [
    {
     "name": "stdout",
     "output_type": "stream",
     "text": [
      "+----------+------+-----------+-------------------+\n",
      "|      time|icao24|geoaltitude|           datetime|\n",
      "+----------+------+-----------+-------------------+\n",
      "|1645461468|a64ef7|    1059.18|2022-02-21 10:37:48|\n",
      "|1645461469|a64ef7|    1059.18|2022-02-21 10:37:49|\n",
      "|1645461470|a64ef7|    1059.18|2022-02-21 10:37:50|\n",
      "+----------+------+-----------+-------------------+\n",
      "only showing top 3 rows\n",
      "\n"
     ]
    }
   ],
   "source": [
    "flight_df.show(3)"
   ]
  },
  {
   "cell_type": "code",
   "execution_count": 28,
   "metadata": {},
   "outputs": [
    {
     "data": {
      "text/plain": [
       "1307"
      ]
     },
     "execution_count": 28,
     "metadata": {},
     "output_type": "execute_result"
    }
   ],
   "source": [
    "flight_df.count()"
   ]
  },
  {
   "cell_type": "markdown",
   "metadata": {},
   "source": [
    "#### Preprocessing"
   ]
  },
  {
   "cell_type": "markdown",
   "metadata": {},
   "source": [
    "##### 1. Duplicates"
   ]
  },
  {
   "cell_type": "code",
   "execution_count": 29,
   "metadata": {},
   "outputs": [
    {
     "name": "stdout",
     "output_type": "stream",
     "text": [
      "+----+------+-----------+--------+-----+\n",
      "|time|icao24|geoaltitude|datetime|count|\n",
      "+----+------+-----------+--------+-----+\n",
      "+----+------+-----------+--------+-----+\n",
      "\n"
     ]
    }
   ],
   "source": [
    "updated_flight_df = flight_df.groupBy(flight_df.columns)\\\n",
    "    .agg(count('*').alias(\"count\"))\\\n",
    "        .filter(col(\"count\") > 1)\n",
    "\n",
    "updated_flight_df.show()"
   ]
  },
  {
   "cell_type": "code",
   "execution_count": 30,
   "metadata": {},
   "outputs": [],
   "source": [
    "updated_flight_df = flight_df.dropDuplicates()"
   ]
  },
  {
   "cell_type": "code",
   "execution_count": 31,
   "metadata": {},
   "outputs": [
    {
     "name": "stdout",
     "output_type": "stream",
     "text": [
      "+----------+------+-----------------+-------------------+\n",
      "|      time|icao24|      geoaltitude|           datetime|\n",
      "+----------+------+-----------------+-------------------+\n",
      "|1645461473|a64ef7|          1059.18|2022-02-21 10:37:53|\n",
      "|1645461925|a64ef7|           1066.8|2022-02-21 10:45:25|\n",
      "|1645462124|a64ef7|           1028.7|2022-02-21 10:48:44|\n",
      "|1645462160|a64ef7|           1028.7|2022-02-21 10:49:20|\n",
      "|1645462445|a64ef7|754.3800000000001|2022-02-21 10:54:05|\n",
      "|1645462522|a64ef7|693.4200000000001|2022-02-21 10:55:22|\n",
      "|1645462679|a64ef7|693.4200000000001|2022-02-21 10:57:59|\n",
      "|1645461485|a64ef7|          1059.18|2022-02-21 10:38:05|\n",
      "|1645461893|a64ef7|          1051.56|2022-02-21 10:44:53|\n",
      "|1645462224|a64ef7|           998.22|2022-02-21 10:50:24|\n",
      "|1645462317|a64ef7|967.7400000000001|2022-02-21 10:51:57|\n",
      "|1645462452|a64ef7|754.3800000000001|2022-02-21 10:54:12|\n",
      "|1645462530|a64ef7|693.4200000000001|2022-02-21 10:55:30|\n",
      "|1645462609|a64ef7|693.4200000000001|2022-02-21 10:56:49|\n",
      "|1645461691|a64ef7|          1013.46|2022-02-21 10:41:31|\n",
      "|1645461887|a64ef7|          1051.56|2022-02-21 10:44:47|\n",
      "|1645461904|a64ef7|          1059.18|2022-02-21 10:45:04|\n",
      "|1645462352|a64ef7|967.7400000000001|2022-02-21 10:52:32|\n",
      "|1645462726|a64ef7|693.4200000000001|2022-02-21 10:58:46|\n",
      "|1645461488|a64ef7|          1059.18|2022-02-21 10:38:08|\n",
      "+----------+------+-----------------+-------------------+\n",
      "only showing top 20 rows\n",
      "\n"
     ]
    }
   ],
   "source": [
    "updated_flight_df.show()"
   ]
  },
  {
   "cell_type": "markdown",
   "metadata": {},
   "source": [
    "##### 2. Drop NAs"
   ]
  },
  {
   "cell_type": "code",
   "execution_count": 32,
   "metadata": {},
   "outputs": [],
   "source": [
    "updated_flight_df = updated_flight_df.dropna(how='any', thresh=None, subset=None)"
   ]
  },
  {
   "cell_type": "markdown",
   "metadata": {},
   "source": [
    "#### Calculating Mean"
   ]
  },
  {
   "cell_type": "code",
   "execution_count": 33,
   "metadata": {},
   "outputs": [
    {
     "name": "stdout",
     "output_type": "stream",
     "text": [
      "+------+------------------------------------------+-----------+\n",
      "|icao24|window                                    |geoaltitude|\n",
      "+------+------------------------------------------+-----------+\n",
      "|a64ef7|{2022-02-21 10:36:00, 2022-02-21 10:38:00}|1059.18    |\n",
      "|a64ef7|{2022-02-21 10:36:00, 2022-02-21 10:38:00}|1059.18    |\n",
      "|a64ef7|{2022-02-21 10:36:00, 2022-02-21 10:38:00}|1059.18    |\n",
      "|a64ef7|{2022-02-21 10:36:00, 2022-02-21 10:38:00}|1059.18    |\n",
      "|a64ef7|{2022-02-21 10:36:00, 2022-02-21 10:38:00}|1059.18    |\n",
      "+------+------------------------------------------+-----------+\n",
      "only showing top 5 rows\n",
      "\n"
     ]
    }
   ],
   "source": [
    "# Convert the timestamp column to a TimestampType\n",
    "mean_calculated_df = flight_df.withColumn(\"datetime\", flight_df[\"datetime\"].cast(TimestampType()))\n",
    "\n",
    "window_size = \"2 minutes\"\n",
    "\n",
    "mean_calculated_df = mean_calculated_df.withColumn(\"window\", window(\"datetime\", window_size)).select('icao24', 'window', 'geoaltitude')\n",
    "\n",
    "mean_calculated_df.show(5, truncate=False)"
   ]
  },
  {
   "cell_type": "code",
   "execution_count": 34,
   "metadata": {},
   "outputs": [
    {
     "name": "stdout",
     "output_type": "stream",
     "text": [
      "+------------------------------------------+------------------+\n",
      "|window                                    |mean_geoaltitude  |\n",
      "+------------------------------------------+------------------+\n",
      "|{2022-02-21 10:36:00, 2022-02-21 10:38:00}|1059.18           |\n",
      "|{2022-02-21 10:38:00, 2022-02-21 10:40:00}|1043.6225000000004|\n",
      "|{2022-02-21 10:40:00, 2022-02-21 10:42:00}|1008.3800000000016|\n",
      "|{2022-02-21 10:42:00, 2022-02-21 10:44:00}|1037.0184999999997|\n",
      "|{2022-02-21 10:44:00, 2022-02-21 10:46:00}|1056.576499999998 |\n",
      "|{2022-02-21 10:46:00, 2022-02-21 10:48:00}|1041.7174999999988|\n",
      "|{2022-02-21 10:48:00, 2022-02-21 10:50:00}|1030.350999999998 |\n",
      "|{2022-02-21 10:50:00, 2022-02-21 10:52:00}|990.8540000000024 |\n",
      "|{2022-02-21 10:52:00, 2022-02-21 10:54:00}|851.9160000000006 |\n",
      "|{2022-02-21 10:54:00, 2022-02-21 10:56:00}|711.199999999999  |\n",
      "|{2022-02-21 10:56:00, 2022-02-21 10:58:00}|693.4199999999986 |\n",
      "|{2022-02-21 10:58:00, 2022-02-21 11:00:00}|693.4199999999987 |\n",
      "+------------------------------------------+------------------+\n",
      "\n"
     ]
    }
   ],
   "source": [
    "agg_df = mean_calculated_df.groupBy(\"window\")\\\n",
    "        .agg(mean(flight_df['geoaltitude']).alias(\"mean_geoaltitude\")).orderBy(asc('window'))\n",
    "\n",
    "\n",
    "agg_df.show(truncate=False)"
   ]
  },
  {
   "cell_type": "code",
   "execution_count": 35,
   "metadata": {},
   "outputs": [
    {
     "data": {
      "text/plain": [
       "12"
      ]
     },
     "execution_count": 35,
     "metadata": {},
     "output_type": "execute_result"
    }
   ],
   "source": [
    "agg_df.count()"
   ]
  },
  {
   "cell_type": "code",
   "execution_count": 36,
   "metadata": {},
   "outputs": [],
   "source": [
    "agg_df.toPandas().to_csv(os.path.join('dataset', 'processed', 'geoaltitude', f'{FLIGHT_ICAO}_0.csv'))"
   ]
  },
  {
   "cell_type": "code",
   "execution_count": 37,
   "metadata": {},
   "outputs": [],
   "source": [
    "# from pyspark.sql.window import Window\n",
    "# from pyspark.sql.functions import col, expr\n",
    "\n",
    "# window_size = 3\n",
    "# horizon = 2\n",
    "\n",
    "# # Create a window specification for ordering by an arbitrary column (you can use a timestamp column if available)\n",
    "# window_spec = Window.orderBy(expr(\"monotonically_increasing_id()\"))\n",
    "\n",
    "# for i in range(window_size + horizon):\n",
    "#     agg_df = agg_df.withColumn(f\"t_plus_{1 * i}\", expr(f\"lead(mean_geoaltitude, {1 * i})\").over(window_spec))\n",
    "\n",
    "# selected_columns = [f\"t_plus_{1 * i}\" for i in range(window_size)]\n",
    "\n",
    "# windowed_df = agg_df.select(*selected_columns).na.drop()\n",
    "\n",
    "# windowed_df.show()"
   ]
  },
  {
   "cell_type": "code",
   "execution_count": 38,
   "metadata": {},
   "outputs": [],
   "source": [
    "# windowed_df.toPandas().to_csv(os.path.join('dataset', 'processed', 'geoaltitude', f'batch-2_full_flights.csv'))"
   ]
  }
 ],
 "metadata": {
  "kernelspec": {
   "display_name": "Python 3",
   "language": "python",
   "name": "python3"
  },
  "language_info": {
   "codemirror_mode": {
    "name": "ipython",
    "version": 3
   },
   "file_extension": ".py",
   "mimetype": "text/x-python",
   "name": "python",
   "nbconvert_exporter": "python",
   "pygments_lexer": "ipython3",
   "version": "3.11.5"
  },
  "orig_nbformat": 4
 },
 "nbformat": 4,
 "nbformat_minor": 2
}
