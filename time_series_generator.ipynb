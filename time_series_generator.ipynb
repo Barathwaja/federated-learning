{
 "cells": [
  {
   "cell_type": "code",
   "execution_count": 1,
   "metadata": {},
   "outputs": [],
   "source": [
    "import os\n",
    "\n",
    "import pandas as pd\n",
    "import numpy as np\n",
    "\n",
    "import matplotlib.pyplot as plt\n",
    "import seaborn as sns\n",
    "import plotly.graph_objects as go\n",
    "\n",
    "\n",
    "from pyspark.sql import SparkSession\n",
    "from pyspark.sql.functions import asc, lit\n",
    "\n",
    "from pyspark.sql.functions import col, \\\n",
    "    from_unixtime, to_date, date_add, when, monotonically_increasing_id, window, mean, count\n",
    "from pyspark.sql.types import TimestampType\n"
   ]
  },
  {
   "cell_type": "code",
   "execution_count": 2,
   "metadata": {},
   "outputs": [
    {
     "name": "stderr",
     "output_type": "stream",
     "text": [
      "23/10/16 12:06:27 WARN Utils: Your hostname, Barathwajas-MacBook-Pro.local resolves to a loopback address: 127.0.0.1; using 172.16.130.168 instead (on interface en0)\n",
      "23/10/16 12:06:27 WARN Utils: Set SPARK_LOCAL_IP if you need to bind to another address\n",
      "Setting default log level to \"WARN\".\n",
      "To adjust logging level use sc.setLogLevel(newLevel). For SparkR, use setLogLevel(newLevel).\n",
      "23/10/16 12:06:27 WARN NativeCodeLoader: Unable to load native-hadoop library for your platform... using builtin-java classes where applicable\n"
     ]
    }
   ],
   "source": [
    "# Create a Spark session\n",
    "spark = SparkSession.builder \\\n",
    "    .appName(\"Time SeriesGenerator\") \\\n",
    "    .getOrCreate()"
   ]
  },
  {
   "cell_type": "code",
   "execution_count": 3,
   "metadata": {},
   "outputs": [
    {
     "data": {
      "text/html": [
       "\n",
       "            <div>\n",
       "                <p><b>SparkSession - in-memory</b></p>\n",
       "                \n",
       "        <div>\n",
       "            <p><b>SparkContext</b></p>\n",
       "\n",
       "            <p><a href=\"http://172.16.130.168:4040\">Spark UI</a></p>\n",
       "\n",
       "            <dl>\n",
       "              <dt>Version</dt>\n",
       "                <dd><code>v3.4.1</code></dd>\n",
       "              <dt>Master</dt>\n",
       "                <dd><code>local[*]</code></dd>\n",
       "              <dt>AppName</dt>\n",
       "                <dd><code>Time SeriesGenerator</code></dd>\n",
       "            </dl>\n",
       "        </div>\n",
       "        \n",
       "            </div>\n",
       "        "
      ],
      "text/plain": [
       "<pyspark.sql.session.SparkSession at 0x134056190>"
      ]
     },
     "execution_count": 3,
     "metadata": {},
     "output_type": "execute_result"
    }
   ],
   "source": [
    "spark"
   ]
  },
  {
   "cell_type": "code",
   "execution_count": 4,
   "metadata": {},
   "outputs": [],
   "source": [
    "# FLIGHT_ICAO = 'a7124d' #a7124d\n",
    "\n",
    "#ad564c -> 6 trips\n",
    "#adc0fb -> 8 trips\n",
    "\n",
    "FLIGHT_ICAO = 'adc0fb'"
   ]
  },
  {
   "cell_type": "code",
   "execution_count": 5,
   "metadata": {},
   "outputs": [
    {
     "name": "stderr",
     "output_type": "stream",
     "text": [
      "                                                                                \r"
     ]
    }
   ],
   "source": [
    "#flights_file_path = os.path.join('dataset', 'raw', FLIGHT_ICAO)\n",
    "\n",
    "flights_file_path = os.path.join('dataset', 'raw', 'batch-2', '*')\n",
    "\n",
    "#flights_file_path = os.path.join('dataset', 'raw', FLIGHT_ICAO , f'{FLIGHT_ICAO}_0.parquet')\n",
    "\n",
    "read_flights = spark.read.parquet(flights_file_path, header=True)"
   ]
  },
  {
   "cell_type": "code",
   "execution_count": 6,
   "metadata": {},
   "outputs": [],
   "source": [
    "def get_values_from_selected_columns(flight_data):\n",
    "\n",
    "    selected_cols = flight_data.select('time', 'icao24', 'geoaltitude') \\\n",
    "                        .orderBy(asc('time'))\n",
    "    \n",
    "    selected_cols = selected_cols.withColumn(\"datetime\", from_unixtime(\"time\"))\n",
    "\n",
    "    return selected_cols"
   ]
  },
  {
   "cell_type": "code",
   "execution_count": 7,
   "metadata": {},
   "outputs": [],
   "source": [
    "flight_df = get_values_from_selected_columns(read_flights)"
   ]
  },
  {
   "cell_type": "code",
   "execution_count": 8,
   "metadata": {},
   "outputs": [
    {
     "name": "stderr",
     "output_type": "stream",
     "text": [
      "                                                                                \r"
     ]
    },
    {
     "name": "stdout",
     "output_type": "stream",
     "text": [
      "+----------+------+------------------+-------------------+\n",
      "|      time|icao24|       geoaltitude|           datetime|\n",
      "+----------+------+------------------+-------------------+\n",
      "|1645279382|ac3aeb|220.98000000000002|2022-02-19 08:03:02|\n",
      "|1645279383|ac3aeb|220.98000000000002|2022-02-19 08:03:03|\n",
      "|1645279384|ac3aeb|228.60000000000002|2022-02-19 08:03:04|\n",
      "+----------+------+------------------+-------------------+\n",
      "only showing top 3 rows\n",
      "\n"
     ]
    }
   ],
   "source": [
    "flight_df.show(3)"
   ]
  },
  {
   "cell_type": "code",
   "execution_count": 9,
   "metadata": {},
   "outputs": [
    {
     "data": {
      "text/plain": [
       "93675"
      ]
     },
     "execution_count": 9,
     "metadata": {},
     "output_type": "execute_result"
    }
   ],
   "source": [
    "flight_df.count()"
   ]
  },
  {
   "cell_type": "markdown",
   "metadata": {},
   "source": [
    "#### Preprocessing"
   ]
  },
  {
   "cell_type": "markdown",
   "metadata": {},
   "source": [
    "##### 1. Duplicates"
   ]
  },
  {
   "cell_type": "code",
   "execution_count": 10,
   "metadata": {},
   "outputs": [
    {
     "name": "stderr",
     "output_type": "stream",
     "text": [
      "[Stage 5:==========================================>               (8 + 3) / 11]\r"
     ]
    },
    {
     "name": "stdout",
     "output_type": "stream",
     "text": [
      "+----+------+-----------+--------+-----+\n",
      "|time|icao24|geoaltitude|datetime|count|\n",
      "+----+------+-----------+--------+-----+\n",
      "+----+------+-----------+--------+-----+\n",
      "\n"
     ]
    },
    {
     "name": "stderr",
     "output_type": "stream",
     "text": [
      "                                                                                \r"
     ]
    }
   ],
   "source": [
    "updated_flight_df = flight_df.groupBy(flight_df.columns)\\\n",
    "    .agg(count('*').alias(\"count\"))\\\n",
    "        .filter(col(\"count\") > 1)\n",
    "\n",
    "updated_flight_df.show()"
   ]
  },
  {
   "cell_type": "code",
   "execution_count": 11,
   "metadata": {},
   "outputs": [],
   "source": [
    "updated_flight_df = flight_df.dropDuplicates()"
   ]
  },
  {
   "cell_type": "code",
   "execution_count": 12,
   "metadata": {},
   "outputs": [
    {
     "name": "stdout",
     "output_type": "stream",
     "text": [
      "+----------+------+------------------+-------------------+\n",
      "|      time|icao24|       geoaltitude|           datetime|\n",
      "+----------+------+------------------+-------------------+\n",
      "|1645887498|ad564c|           2461.26|2022-02-26 08:58:18|\n",
      "|1645887521|ad564c|           2461.26|2022-02-26 08:58:41|\n",
      "|1645887547|ad564c|           2461.26|2022-02-26 08:59:07|\n",
      "|1645887582|ad564c|           2461.26|2022-02-26 08:59:42|\n",
      "|1645887599|ad564c|           2468.88|2022-02-26 08:59:59|\n",
      "|1645887871|ad564c|           2468.88|2022-02-26 09:04:31|\n",
      "|1645887988|ad564c|           2468.88|2022-02-26 09:06:28|\n",
      "|1645888103|ad564c|           2468.88|2022-02-26 09:08:23|\n",
      "|1645889321|ad564c|           2484.12|2022-02-26 09:28:41|\n",
      "|1645889637|ad564c|           2484.12|2022-02-26 09:33:57|\n",
      "|1645889710|ad564c|           2453.64|2022-02-26 09:35:10|\n",
      "|1645890527|ad564c|2804.1600000000003|2022-02-26 09:48:47|\n",
      "|1645890538|ad564c|2804.1600000000003|2022-02-26 09:48:58|\n",
      "|1645890811|ad564c|2773.6800000000003|2022-02-26 09:53:31|\n",
      "|1645890985|ad564c|2804.1600000000003|2022-02-26 09:56:25|\n",
      "|1645891196|ad564c|2804.1600000000003|2022-02-26 09:59:56|\n",
      "|1645891335|ad564c|2773.6800000000003|2022-02-26 10:02:15|\n",
      "|1645891577|ad564c|           2811.78|2022-02-26 10:06:17|\n",
      "|1645891627|ad564c|2804.1600000000003|2022-02-26 10:07:07|\n",
      "|1645891645|ad564c|            2781.3|2022-02-26 10:07:25|\n",
      "+----------+------+------------------+-------------------+\n",
      "only showing top 20 rows\n",
      "\n"
     ]
    }
   ],
   "source": [
    "updated_flight_df.show()"
   ]
  },
  {
   "cell_type": "markdown",
   "metadata": {},
   "source": [
    "##### 2. Drop NAs"
   ]
  },
  {
   "cell_type": "code",
   "execution_count": 13,
   "metadata": {},
   "outputs": [],
   "source": [
    "updated_flight_df = updated_flight_df.dropna(how='any', thresh=None, subset=None)"
   ]
  },
  {
   "cell_type": "markdown",
   "metadata": {},
   "source": [
    "#### Calculating Mean"
   ]
  },
  {
   "cell_type": "code",
   "execution_count": 14,
   "metadata": {},
   "outputs": [],
   "source": [
    "# Convert the timestamp column to a TimestampType\n",
    "# mean_calculated_df = flight_df.withColumn(\"datetime\", flight_df[\"datetime\"].cast(TimestampType()))\n",
    "\n",
    "# window_size = \"2 minutes\"\n",
    "\n",
    "# mean_calculated_df = mean_calculated_df.withColumn(\"window\", window(\"datetime\", window_size)).select('icao24', 'window', 'geoaltitude')\n",
    "\n",
    "# mean_calculated_df.show(5, truncate=False)"
   ]
  },
  {
   "cell_type": "code",
   "execution_count": 15,
   "metadata": {},
   "outputs": [],
   "source": [
    "# agg_df = mean_calculated_df.groupBy(\"window\")\\\n",
    "#         .agg(mean(flight_df['geoaltitude']).alias(\"mean_geoaltitude\")).orderBy(asc('window'))\n",
    "\n",
    "\n",
    "# agg_df.show(truncate=False)"
   ]
  },
  {
   "cell_type": "code",
   "execution_count": 16,
   "metadata": {},
   "outputs": [],
   "source": [
    "# agg_df.count()"
   ]
  },
  {
   "cell_type": "code",
   "execution_count": 17,
   "metadata": {},
   "outputs": [],
   "source": [
    "# agg_df.toPandas().to_csv(os.path.join('dataset', 'processed', 'geoaltitude', f'{FLIGHT_ICAO}_0.csv'))\n",
    "\n",
    "updated_flight_df = updated_flight_df.orderBy(asc('datetime'))\n",
    "#updated_flight_df.toPandas().to_csv(os.path.join('dataset', 'processed', 'geoaltitude', f'{FLIGHT_ICAO}_0.csv'))\n",
    "updated_flight_df.toPandas().to_csv(os.path.join('dataset', 'processed', 'geoaltitude', f'batch-2.csv'))"
   ]
  },
  {
   "cell_type": "code",
   "execution_count": null,
   "metadata": {},
   "outputs": [],
   "source": [
    "# from pyspark.sql.window import Window\n",
    "# from pyspark.sql.functions import col, expr\n",
    "\n",
    "# window_size = 3\n",
    "# horizon = 2\n",
    "\n",
    "# # Create a window specification for ordering by an arbitrary column (you can use a timestamp column if available)\n",
    "# window_spec = Window.orderBy(expr(\"monotonically_increasing_id()\"))\n",
    "\n",
    "# for i in range(window_size + horizon):\n",
    "#     agg_df = agg_df.withColumn(f\"t_plus_{1 * i}\", expr(f\"lead(mean_geoaltitude, {1 * i})\").over(window_spec))\n",
    "\n",
    "# selected_columns = [f\"t_plus_{1 * i}\" for i in range(window_size)]\n",
    "\n",
    "# windowed_df = agg_df.select(*selected_columns).na.drop()\n",
    "\n",
    "# windowed_df.show()"
   ]
  },
  {
   "cell_type": "code",
   "execution_count": null,
   "metadata": {},
   "outputs": [],
   "source": [
    "# windowed_df.toPandas().to_csv(os.path.join('dataset', 'processed', 'geoaltitude', f'batch-2_full_flights.csv'))"
   ]
  }
 ],
 "metadata": {
  "kernelspec": {
   "display_name": "Python 3",
   "language": "python",
   "name": "python3"
  },
  "language_info": {
   "codemirror_mode": {
    "name": "ipython",
    "version": 3
   },
   "file_extension": ".py",
   "mimetype": "text/x-python",
   "name": "python",
   "nbconvert_exporter": "python",
   "pygments_lexer": "ipython3",
   "version": "3.11.5"
  },
  "orig_nbformat": 4
 },
 "nbformat": 4,
 "nbformat_minor": 2
}
