{
 "cells": [
  {
   "cell_type": "code",
   "execution_count": 77,
   "metadata": {},
   "outputs": [],
   "source": [
    "import os\n",
    "\n",
    "import pandas as pd\n",
    "import numpy as np\n",
    "\n",
    "import matplotlib.pyplot as plt\n",
    "import seaborn as sns\n",
    "import plotly.graph_objects as go\n",
    "\n",
    "\n",
    "from pyspark.sql import SparkSession\n",
    "from pyspark.sql.functions import asc, lit\n",
    "\n",
    "from pyspark.sql.functions import col, \\\n",
    "    from_unixtime, to_date, date_add, when, monotonically_increasing_id, window, mean, count\n",
    "from pyspark.sql.types import TimestampType\n"
   ]
  },
  {
   "cell_type": "code",
   "execution_count": 78,
   "metadata": {},
   "outputs": [],
   "source": [
    "# Create a Spark session\n",
    "spark = SparkSession.builder \\\n",
    "    .appName(\"Time SeriesGenerator\") \\\n",
    "    .getOrCreate()"
   ]
  },
  {
   "cell_type": "code",
   "execution_count": 79,
   "metadata": {},
   "outputs": [
    {
     "data": {
      "text/html": [
       "\n",
       "            <div>\n",
       "                <p><b>SparkSession - in-memory</b></p>\n",
       "                \n",
       "        <div>\n",
       "            <p><b>SparkContext</b></p>\n",
       "\n",
       "            <p><a href=\"http://192.168.0.31:4040\">Spark UI</a></p>\n",
       "\n",
       "            <dl>\n",
       "              <dt>Version</dt>\n",
       "                <dd><code>v3.4.1</code></dd>\n",
       "              <dt>Master</dt>\n",
       "                <dd><code>local[*]</code></dd>\n",
       "              <dt>AppName</dt>\n",
       "                <dd><code>Time SeriesGenerator</code></dd>\n",
       "            </dl>\n",
       "        </div>\n",
       "        \n",
       "            </div>\n",
       "        "
      ],
      "text/plain": [
       "<pyspark.sql.session.SparkSession at 0x125f8a710>"
      ]
     },
     "execution_count": 79,
     "metadata": {},
     "output_type": "execute_result"
    }
   ],
   "source": [
    "spark"
   ]
  },
  {
   "cell_type": "code",
   "execution_count": 80,
   "metadata": {},
   "outputs": [],
   "source": [
    "# FLIGHT_ICAO = 'a7124d' #a7124d\n",
    "\n",
    "#ad564c -> 6 trips\n",
    "#adc0fb -> 8 trips\n",
    "\n",
    "FLIGHT_ICAO = 'a03b40'\n",
    "# a50dd0 a64ef7 a0528b a837c8 a889c3 a5622f a7124d a00721 a48480 ad0280 ada4d5"
   ]
  },
  {
   "cell_type": "code",
   "execution_count": 81,
   "metadata": {},
   "outputs": [],
   "source": [
    "#flights_file_path = os.path.join('dataset', 'raw', FLIGHT_ICAO)\n",
    "\n",
    "flights_file_path = os.path.join('dataset', 'raw', 'ds4', FLIGHT_ICAO, '*')\n",
    "\n",
    "#flights_file_path = os.path.join('dataset', 'raw', FLIGHT_ICAO , f'{FLIGHT_ICAO}_0.parquet')\n",
    "\n",
    "read_flights = spark.read.parquet(flights_file_path, header=True)"
   ]
  },
  {
   "cell_type": "code",
   "execution_count": 82,
   "metadata": {},
   "outputs": [],
   "source": [
    "def get_values_from_selected_columns(flight_data):\n",
    "\n",
    "    selected_cols = flight_data.select('time', 'icao24', 'geoaltitude') \\\n",
    "                        .orderBy(asc('time'))\n",
    "    \n",
    "    selected_cols = selected_cols.withColumn(\"datetime\", from_unixtime(\"time\"))\n",
    "\n",
    "    return selected_cols"
   ]
  },
  {
   "cell_type": "code",
   "execution_count": 83,
   "metadata": {},
   "outputs": [],
   "source": [
    "flight_df = get_values_from_selected_columns(read_flights)"
   ]
  },
  {
   "cell_type": "code",
   "execution_count": 84,
   "metadata": {},
   "outputs": [
    {
     "name": "stdout",
     "output_type": "stream",
     "text": [
      "+----------+------+-----------+-------------------+\n",
      "|      time|icao24|geoaltitude|           datetime|\n",
      "+----------+------+-----------+-------------------+\n",
      "|1645740845|a03b40|     777.24|2022-02-24 16:14:05|\n",
      "|1645740846|a03b40|     792.48|2022-02-24 16:14:06|\n",
      "|1645740847|a03b40|     807.72|2022-02-24 16:14:07|\n",
      "+----------+------+-----------+-------------------+\n",
      "only showing top 3 rows\n",
      "\n"
     ]
    }
   ],
   "source": [
    "flight_df.show(3)"
   ]
  },
  {
   "cell_type": "code",
   "execution_count": 85,
   "metadata": {},
   "outputs": [
    {
     "data": {
      "text/plain": [
       "9081"
      ]
     },
     "execution_count": 85,
     "metadata": {},
     "output_type": "execute_result"
    }
   ],
   "source": [
    "flight_df.count()"
   ]
  },
  {
   "cell_type": "markdown",
   "metadata": {},
   "source": [
    "#### Preprocessing"
   ]
  },
  {
   "cell_type": "markdown",
   "metadata": {},
   "source": [
    "##### 1. Duplicates"
   ]
  },
  {
   "cell_type": "code",
   "execution_count": 86,
   "metadata": {},
   "outputs": [
    {
     "name": "stdout",
     "output_type": "stream",
     "text": [
      "+----+------+-----------+--------+-----+\n",
      "|time|icao24|geoaltitude|datetime|count|\n",
      "+----+------+-----------+--------+-----+\n",
      "+----+------+-----------+--------+-----+\n",
      "\n"
     ]
    }
   ],
   "source": [
    "updated_flight_df = flight_df.groupBy(flight_df.columns)\\\n",
    "    .agg(count('*').alias(\"count\"))\\\n",
    "        .filter(col(\"count\") > 1)\n",
    "\n",
    "updated_flight_df.show()"
   ]
  },
  {
   "cell_type": "code",
   "execution_count": 87,
   "metadata": {},
   "outputs": [],
   "source": [
    "updated_flight_df = flight_df.dropDuplicates()"
   ]
  },
  {
   "cell_type": "code",
   "execution_count": 88,
   "metadata": {},
   "outputs": [
    {
     "name": "stdout",
     "output_type": "stream",
     "text": [
      "+----------+------+------------------+-------------------+\n",
      "|      time|icao24|       geoaltitude|           datetime|\n",
      "+----------+------+------------------+-------------------+\n",
      "|1645985371|a03b40|7269.4800000000005|2022-02-27 12:09:31|\n",
      "|1645985419|a03b40|            7277.1|2022-02-27 12:10:19|\n",
      "|1645985742|a03b40|           7284.72|2022-02-27 12:15:42|\n",
      "|1645986098|a03b40|           7292.34|2022-02-27 12:21:38|\n",
      "|1645986161|a03b40| 7376.160000000001|2022-02-27 12:22:41|\n",
      "|1645986802|a03b40|           8290.56|2022-02-27 12:33:22|\n",
      "|1645986907|a03b40|           8290.56|2022-02-27 12:35:07|\n",
      "|1645987423|a03b40|           3604.26|2022-02-27 12:43:43|\n",
      "|1645987462|a03b40|           3291.84|2022-02-27 12:44:22|\n",
      "|1645987517|a03b40|           2788.92|2022-02-27 12:45:17|\n",
      "|1645987823|a03b40|1386.8400000000001|2022-02-27 12:50:23|\n",
      "|1645985012|a03b40|           5966.46|2022-02-27 12:03:32|\n",
      "|1645985304|a03b40|7269.4800000000005|2022-02-27 12:08:24|\n",
      "|1645985637|a03b40|            7277.1|2022-02-27 12:13:57|\n",
      "|1645985846|a03b40|           7284.72|2022-02-27 12:17:26|\n",
      "|1645986084|a03b40|           7292.34|2022-02-27 12:21:24|\n",
      "|1645986415|a03b40|           8275.32|2022-02-27 12:26:55|\n",
      "|1645986417|a03b40|           8275.32|2022-02-27 12:26:57|\n",
      "|1645986491|a03b40|           8275.32|2022-02-27 12:28:11|\n",
      "|1645986572|a03b40|           8275.32|2022-02-27 12:29:32|\n",
      "+----------+------+------------------+-------------------+\n",
      "only showing top 20 rows\n",
      "\n"
     ]
    }
   ],
   "source": [
    "updated_flight_df.show()"
   ]
  },
  {
   "cell_type": "markdown",
   "metadata": {},
   "source": [
    "##### 2. Drop NAs"
   ]
  },
  {
   "cell_type": "code",
   "execution_count": 89,
   "metadata": {},
   "outputs": [],
   "source": [
    "updated_flight_df = updated_flight_df.dropna(how='any', thresh=None, subset=None)"
   ]
  },
  {
   "cell_type": "markdown",
   "metadata": {},
   "source": [
    "#### Calculating Mean"
   ]
  },
  {
   "cell_type": "code",
   "execution_count": 90,
   "metadata": {},
   "outputs": [],
   "source": [
    "# Convert the timestamp column to a TimestampType\n",
    "# mean_calculated_df = flight_df.withColumn(\"datetime\", flight_df[\"datetime\"].cast(TimestampType()))\n",
    "\n",
    "# window_size = \"2 minutes\"\n",
    "\n",
    "# mean_calculated_df = mean_calculated_df.withColumn(\"window\", window(\"datetime\", window_size)).select('icao24', 'window', 'geoaltitude')\n",
    "\n",
    "# mean_calculated_df.show(5, truncate=False)"
   ]
  },
  {
   "cell_type": "code",
   "execution_count": 91,
   "metadata": {},
   "outputs": [],
   "source": [
    "# agg_df = mean_calculated_df.groupBy(\"window\")\\\n",
    "#         .agg(mean(flight_df['geoaltitude']).alias(\"mean_geoaltitude\")).orderBy(asc('window'))\n",
    "\n",
    "\n",
    "# agg_df.show(truncate=False)"
   ]
  },
  {
   "cell_type": "code",
   "execution_count": 92,
   "metadata": {},
   "outputs": [],
   "source": [
    "# agg_df.count()"
   ]
  },
  {
   "cell_type": "code",
   "execution_count": 93,
   "metadata": {},
   "outputs": [],
   "source": [
    "# agg_df.toPandas().to_csv(os.path.join('dataset', 'processed', 'geoaltitude', f'{FLIGHT_ICAO}_0.csv'))\n",
    "\n",
    "updated_flight_df = updated_flight_df.orderBy(asc('datetime'))\n",
    "updated_flight_df.toPandas().to_csv(os.path.join('dataset', 'processed', 'geoaltitude', f'ds-4-{FLIGHT_ICAO}.csv'))\n",
    "# updated_flight_df.toPandas().to_csv(os.path.join('dataset', 'processed', 'geoaltitude', f'ds-3-batch-4.csv'))"
   ]
  },
  {
   "cell_type": "code",
   "execution_count": null,
   "metadata": {},
   "outputs": [],
   "source": [
    "# from pyspark.sql.window import Window\n",
    "# from pyspark.sql.functions import col, expr\n",
    "\n",
    "# window_size = 3\n",
    "# horizon = 2\n",
    "\n",
    "# # Create a window specification for ordering by an arbitrary column (you can use a timestamp column if available)\n",
    "# window_spec = Window.orderBy(expr(\"monotonically_increasing_id()\"))\n",
    "\n",
    "# for i in range(window_size + horizon):\n",
    "#     agg_df = agg_df.withColumn(f\"t_plus_{1 * i}\", expr(f\"lead(mean_geoaltitude, {1 * i})\").over(window_spec))\n",
    "\n",
    "# selected_columns = [f\"t_plus_{1 * i}\" for i in range(window_size)]\n",
    "\n",
    "# windowed_df = agg_df.select(*selected_columns).na.drop()\n",
    "\n",
    "# windowed_df.show()"
   ]
  },
  {
   "cell_type": "code",
   "execution_count": null,
   "metadata": {},
   "outputs": [],
   "source": [
    "# windowed_df.toPandas().to_csv(os.path.join('dataset', 'processed', 'geoaltitude', f'batch-2_full_flights.csv'))"
   ]
  }
 ],
 "metadata": {
  "kernelspec": {
   "display_name": "Python 3",
   "language": "python",
   "name": "python3"
  },
  "language_info": {
   "codemirror_mode": {
    "name": "ipython",
    "version": 3
   },
   "file_extension": ".py",
   "mimetype": "text/x-python",
   "name": "python",
   "nbconvert_exporter": "python",
   "pygments_lexer": "ipython3",
   "version": "3.11.5"
  },
  "orig_nbformat": 4
 },
 "nbformat": 4,
 "nbformat_minor": 2
}
